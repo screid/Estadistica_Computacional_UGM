{
  "nbformat": 4,
  "nbformat_minor": 0,
  "metadata": {
    "colab": {
      "provenance": [],
      "authorship_tag": "ABX9TyPtTJaWPBwPn3ok5LtqzZ5/",
      "include_colab_link": true
    },
    "kernelspec": {
      "name": "python3",
      "display_name": "Python 3"
    },
    "language_info": {
      "name": "python"
    }
  },
  "cells": [
    {
      "cell_type": "markdown",
      "metadata": {
        "id": "view-in-github",
        "colab_type": "text"
      },
      "source": [
        "<a href=\"https://colab.research.google.com/github/screid/Estadistica_Computacional_UGM/blob/main/Clase_6_pruebas_de_hipotesis.ipynb\" target=\"_parent\"><img src=\"https://colab.research.google.com/assets/colab-badge.svg\" alt=\"Open In Colab\"/></a>"
      ]
    },
    {
      "cell_type": "code",
      "execution_count": 1,
      "metadata": {
        "colab": {
          "base_uri": "https://localhost:8080/"
        },
        "id": "ZVvxeqgPjQ2m",
        "outputId": "4e5e42b1-0870-42d1-cb5d-3a5e3da61970"
      },
      "outputs": [
        {
          "output_type": "stream",
          "name": "stdout",
          "text": [
            "Estadístico Z: 3.96, p-valor: 0.0000\n"
          ]
        }
      ],
      "source": [
        "import numpy as np\n",
        "import scipy.stats as stats\n",
        "\n",
        "# Datos simulados\n",
        "np.random.seed(42)\n",
        "sueldos = np.random.normal(51000, 2000, 100)  # Media 51,000, Desviación 2,000\n",
        "\n",
        "# Parámetros\n",
        "media_muestral = np.mean(sueldos)\n",
        "sigma_poblacional = 2000\n",
        "n = len(sueldos)\n",
        "media_hipotetica = 50000  # Hipótesis nula\n",
        "\n",
        "# Prueba Z\n",
        "z = (media_muestral - media_hipotetica) / (sigma_poblacional / np.sqrt(n))\n",
        "p_valor = 1 - stats.norm.cdf(z)  # Prueba unilateral (mayor)\n",
        "\n",
        "print(f\"Estadístico Z: {z:.2f}, p-valor: {p_valor:.4f}\")\n"
      ]
    },
    {
      "cell_type": "code",
      "source": [
        "# Cálculo de la prueba t\n",
        "t, p_valor_t = stats.ttest_1samp(sueldos, 50000)\n",
        "\n",
        "print(f\"Estadístico t: {t:.2f}, p-valor: {p_valor_t:.4f}\")\n"
      ],
      "metadata": {
        "colab": {
          "base_uri": "https://localhost:8080/"
        },
        "id": "Onc6I0ggjTqH",
        "outputId": "495bacb6-11bc-41d5-e512-e89c67c15008"
      },
      "execution_count": 2,
      "outputs": [
        {
          "output_type": "stream",
          "name": "stdout",
          "text": [
            "Estadístico t: 4.36, p-valor: 0.0000\n"
          ]
        }
      ]
    },
    {
      "cell_type": "code",
      "source": [
        "# Cálculo de la prueba t\n",
        "t, p_valor_t = stats.ttest_1samp(sueldos, 50000)\n",
        "\n",
        "print(f\"Estadístico t: {t:.2f}, p-valor: {p_valor_t:.4f}\")\n"
      ],
      "metadata": {
        "colab": {
          "base_uri": "https://localhost:8080/"
        },
        "id": "nft_aEW1jYac",
        "outputId": "2d24a165-ca1e-49c9-e1ae-54484303c1c1"
      },
      "execution_count": 3,
      "outputs": [
        {
          "output_type": "stream",
          "name": "stdout",
          "text": [
            "Estadístico t: 4.36, p-valor: 0.0000\n"
          ]
        }
      ]
    },
    {
      "cell_type": "code",
      "source": [
        "import pandas as pd\n",
        "\n",
        "# Crear tabla de frecuencias observadas\n",
        "tabla = pd.DataFrame([[30, 10], [25, 15]], columns=[\"Compra\", \"No Compra\"], index=[\"Producto A\", \"Producto B\"])\n",
        "\n",
        "# Prueba de Chi-cuadrado\n",
        "chi2, p_valor_chi, _, _ = stats.chi2_contingency(tabla)\n",
        "\n",
        "print(f\"Estadístico Chi-cuadrado: {chi2:.2f}, p-valor: {p_valor_chi:.4f}\")\n"
      ],
      "metadata": {
        "colab": {
          "base_uri": "https://localhost:8080/"
        },
        "id": "iZNvQIbtjbjQ",
        "outputId": "c867f508-e17f-40a4-9059-89ff1a8969b7"
      },
      "execution_count": 4,
      "outputs": [
        {
          "output_type": "stream",
          "name": "stdout",
          "text": [
            "Estadístico Chi-cuadrado: 0.93, p-valor: 0.3346\n"
          ]
        }
      ]
    },
    {
      "cell_type": "code",
      "source": [
        "# Datos simulados\n",
        "sueldos_tecnologia = np.random.normal(55000, 5000, 30)\n",
        "sueldos_finanzas = np.random.normal(60000, 5000, 30)\n",
        "sueldos_salud = np.random.normal(58000, 5000, 30)\n",
        "\n",
        "# Prueba ANOVA\n",
        "f_stat, p_valor_anova = stats.f_oneway(sueldos_tecnologia, sueldos_finanzas, sueldos_salud)\n",
        "\n",
        "print(f\"Estadístico F: {f_stat:.2f}, p-valor: {p_valor_anova:.4f}\")\n"
      ],
      "metadata": {
        "colab": {
          "base_uri": "https://localhost:8080/"
        },
        "id": "YZULvNWujdNI",
        "outputId": "5e25e304-c02b-40c7-a2f1-541672302db3"
      },
      "execution_count": 5,
      "outputs": [
        {
          "output_type": "stream",
          "name": "stdout",
          "text": [
            "Estadístico F: 6.68, p-valor: 0.0020\n"
          ]
        }
      ]
    },
    {
      "cell_type": "code",
      "source": [
        "# Simulación de dataset\n",
        "df = pd.DataFrame({\n",
        "    \"Departamento\": np.random.choice([\"Ventas\", \"TI\", \"RRHH\"], size=50),\n",
        "    \"Productividad\": np.random.normal(80, 10, 50)\n",
        "})\n",
        "\n",
        "# Comparación con ANOVA\n",
        "grupos = [df[df[\"Departamento\"] == d][\"Productividad\"] for d in df[\"Departamento\"].unique()]\n",
        "f_stat, p_valor = stats.f_oneway(*grupos)\n",
        "\n",
        "print(f\"Estadístico F: {f_stat:.2f}, p-valor: {p_valor:.4f}\")\n"
      ],
      "metadata": {
        "colab": {
          "base_uri": "https://localhost:8080/"
        },
        "id": "wxlk1U1Hje6Q",
        "outputId": "636e1aaf-588a-4298-d1f3-5a980243c646"
      },
      "execution_count": 6,
      "outputs": [
        {
          "output_type": "stream",
          "name": "stdout",
          "text": [
            "Estadístico F: 6.19, p-valor: 0.0041\n"
          ]
        }
      ]
    },
    {
      "cell_type": "code",
      "source": [],
      "metadata": {
        "id": "IK7GfzRSjgfu"
      },
      "execution_count": null,
      "outputs": []
    }
  ]
}