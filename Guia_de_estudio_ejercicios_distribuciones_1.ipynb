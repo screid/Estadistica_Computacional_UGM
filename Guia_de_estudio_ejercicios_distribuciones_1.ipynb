{
  "cells": [
    {
      "cell_type": "markdown",
      "metadata": {
        "id": "view-in-github",
        "colab_type": "text"
      },
      "source": [
        "<a href=\"https://colab.research.google.com/github/screid/Estadistica_Computacional_UGM/blob/main/Guia_de_estudio_ejercicios_distribuciones_1.ipynb\" target=\"_parent\"><img src=\"https://colab.research.google.com/assets/colab-badge.svg\" alt=\"Open In Colab\"/></a>"
      ]
    },
    {
      "cell_type": "markdown",
      "id": "75bd7a15",
      "metadata": {
        "id": "75bd7a15"
      },
      "source": [
        "**Pregunta 1.** En un torneo de Blackjack, la suma de las dos primeras cartas de un jugador se modela como X∼N(μ=12.5,σ=2). ¿Cuál es la probabilidad de que la suma inicial sea menor que 11?"
      ]
    },
    {
      "cell_type": "code",
      "execution_count": null,
      "id": "4ca165bc",
      "metadata": {
        "id": "4ca165bc"
      },
      "outputs": [],
      "source": [
        "from scipy.stats import norm\n",
        "\n",
        "mu, sigma = 12.5, 2\n",
        "prob = norm.cdf(11, loc=mu, scale=sigma)\n",
        "print(f\"P(X<11) = {prob:.4f}\")"
      ]
    },
    {
      "cell_type": "markdown",
      "id": "b6afa3b9",
      "metadata": {
        "id": "b6afa3b9"
      },
      "source": [
        "**Pregunta 2.** En un experimento de simulación, la ganancia por sesión de un jugador sigue X∼N(μ=95,σ=12). ¿Cuál es la probabilidad de que la ganancia exceda 110?"
      ]
    },
    {
      "cell_type": "code",
      "execution_count": null,
      "id": "5e293ce2",
      "metadata": {
        "id": "5e293ce2"
      },
      "outputs": [],
      "source": [
        "from scipy.stats import norm\n",
        "\n",
        "mu, sigma = 95, 12\n",
        "prob = norm.sf(110, loc=mu, scale=sigma)\n",
        "print(f\"P(X>110) = {prob:.4f}\")"
      ]
    },
    {
      "cell_type": "markdown",
      "id": "9062ab9b",
      "metadata": {
        "id": "9062ab9b"
      },
      "source": [
        "**Pregunta 3.** En un estudio de tiempo de espera entre busteos, X∼N(μ=8,σ=3). ¿Qué probabilidad hay de que el tiempo de espera esté entre 5 y 10 unidades?"
      ]
    },
    {
      "cell_type": "code",
      "execution_count": null,
      "id": "79fbc976",
      "metadata": {
        "id": "79fbc976"
      },
      "outputs": [],
      "source": [
        "from scipy.stats import norm\n",
        "\n",
        "mu, sigma = 8, 3\n",
        "prob = norm.cdf(10, loc=mu, scale=sigma) - norm.cdf(5, loc=mu, scale=sigma)\n",
        "print(f\"P(5<X<10) = {prob:.4f}\")"
      ]
    },
    {
      "cell_type": "markdown",
      "id": "f6438d21",
      "metadata": {
        "id": "f6438d21"
      },
      "source": [
        "**Pregunta 4.** En un estudio de rendimiento, el puntaje de los jugadores en un test sigue N(μ=70,σ=15). ¿Cuál es el puntaje que delimita el percentil 95?"
      ]
    },
    {
      "cell_type": "code",
      "execution_count": null,
      "id": "ccaaccf8",
      "metadata": {
        "id": "ccaaccf8"
      },
      "outputs": [],
      "source": [
        "from scipy.stats import norm\n",
        "\n",
        "mu, sigma = 70, 15\n",
        "x95 = norm.ppf(0.95, loc=mu, scale=sigma)\n",
        "print(f\"95º percentil ≈ {x95:.2f}\")"
      ]
    },
    {
      "cell_type": "markdown",
      "id": "1f912722",
      "metadata": {
        "id": "1f912722"
      },
      "source": [
        "**Pregunta 5.** En una sesión de apuestas, un jugador obtiene 128 fichas de ganancia. Los resultados históricos indican μ=100, σ=20. ¿Qué valor‑Z corresponde a esas 128 fichas?"
      ]
    },
    {
      "cell_type": "code",
      "execution_count": null,
      "id": "3a6bbc13",
      "metadata": {
        "id": "3a6bbc13"
      },
      "outputs": [],
      "source": [
        "x, mu, sigma = 128, 100, 20\n",
        "z = (x - mu) / sigma\n",
        "print(f\"Z = {z:.4f}\")"
      ]
    },
    {
      "cell_type": "markdown",
      "id": "a51c736b",
      "metadata": {
        "id": "a51c736b"
      },
      "source": [
        "**Pregunta 6.** Un jugador usando estrategia básica gana cada mano con p=0.47. En una secuencia de 10 manos, ¿cuál es la probabilidad de ganar exactamente 4?"
      ]
    },
    {
      "cell_type": "code",
      "execution_count": null,
      "id": "fca18da6",
      "metadata": {
        "id": "fca18da6"
      },
      "outputs": [],
      "source": [
        "from scipy.stats import binom\n",
        "\n",
        "n, p, k = 10, 0.47, 4\n",
        "prob = binom.pmf(k, n, p)\n",
        "print(f\"P(X=4) = {prob:.4f}\")"
      ]
    },
    {
      "cell_type": "markdown",
      "id": "06e6ac74",
      "metadata": {
        "id": "06e6ac74"
      },
      "source": [
        "**Pregunta 7.** En un set de 15 manos, la probabilidad de perder una mano es 0.55. ¿Cuál es la probabilidad de perder a lo sumo 6 manos?"
      ]
    },
    {
      "cell_type": "code",
      "execution_count": null,
      "id": "7e7718c1",
      "metadata": {
        "id": "7e7718c1"
      },
      "outputs": [],
      "source": [
        "from scipy.stats import binom\n",
        "\n",
        "n, p, k = 15, 0.55, 6\n",
        "prob = binom.cdf(k, n, p)\n",
        "print(f\"P(X≤6) = {prob:.4f}\")"
      ]
    },
    {
      "cell_type": "markdown",
      "id": "5281111d",
      "metadata": {
        "id": "5281111d"
      },
      "source": [
        "**Pregunta 8.** Un jugador con p(ganar)=0.38 juega 12 manos. ¿Qué probabilidad hay de ganar al menos 8 de ellas?"
      ]
    },
    {
      "cell_type": "code",
      "execution_count": null,
      "id": "498cba5d",
      "metadata": {
        "id": "498cba5d"
      },
      "outputs": [],
      "source": [
        "from scipy.stats import binom\n",
        "\n",
        "n, p, k = 12, 0.38, 8\n",
        "prob = binom.sf(k-1, n, p)\n",
        "print(f\"P(X≥8) = {prob:.4f}\")"
      ]
    },
    {
      "cell_type": "markdown",
      "id": "9cf51c0a",
      "metadata": {
        "id": "9cf51c0a"
      },
      "source": [
        "**Pregunta 9.** En 25 manos, la probabilidad de “bust” es 0.14. Calcula la esperanza y la varianza del número de busteos."
      ]
    },
    {
      "cell_type": "code",
      "execution_count": null,
      "id": "bf729524",
      "metadata": {
        "id": "bf729524"
      },
      "outputs": [],
      "source": [
        "from scipy.stats import binom\n",
        "\n",
        "n, p = 25, 0.14\n",
        "dist = binom(n, p)\n",
        "print(f\"E[X] = {dist.mean():.2f}, Var(X) = {dist.var():.2f}\")"
      ]
    },
    {
      "cell_type": "markdown",
      "id": "d8888310",
      "metadata": {
        "id": "d8888310"
      },
      "source": [
        "**Pregunta 10.** En un torneo rápido de 8 manos, revisa tu código para calcular P(X>3) con p=0.52."
      ]
    },
    {
      "cell_type": "code",
      "execution_count": null,
      "id": "10a9900b",
      "metadata": {
        "id": "10a9900b"
      },
      "outputs": [],
      "source": [
        "from scipy.stats import binom\n",
        "\n",
        "n, p, k = 8, 0.52, 3\n",
        "prob = binom.sf(k, n, p)   # P(X ≥ 4)\n",
        "print(f\"P(X>3) = {prob:.4f}\")"
      ]
    },
    {
      "cell_type": "markdown",
      "id": "c85c8461",
      "metadata": {
        "id": "c85c8461"
      },
      "source": [
        "**Pregunta 11.** En un casino online, el dealer “bustea” en promedio 1.2 veces por hora. ¿Cuál es la probabilidad de que se pase exactamente 2 veces en una hora?"
      ]
    },
    {
      "cell_type": "code",
      "execution_count": null,
      "id": "18ae63dc",
      "metadata": {
        "id": "18ae63dc"
      },
      "outputs": [],
      "source": [
        "from scipy.stats import poisson\n",
        "\n",
        "lam, k = 1.2, 2\n",
        "prob = poisson.pmf(k, mu=lam)\n",
        "print(f\"P(X=2) = {prob:.4f}\")"
      ]
    },
    {
      "cell_type": "markdown",
      "id": "1f457e0d",
      "metadata": {
        "id": "1f457e0d"
      },
      "source": [
        "**Pregunta 12.** Un jugador recibe en promedio 0.8 “blackjacks naturales” por 50 manos. ¿Cuál es la probabilidad de obtener más de 1 en ese tramo?"
      ]
    },
    {
      "cell_type": "code",
      "execution_count": null,
      "id": "879cf776",
      "metadata": {
        "id": "879cf776"
      },
      "outputs": [],
      "source": [
        "from scipy.stats import poisson\n",
        "\n",
        "lam, k = 0.8, 1\n",
        "prob = poisson.sf(k, mu=lam)\n",
        "print(f\"P(X>1) = {prob:.4f}\")"
      ]
    },
    {
      "cell_type": "markdown",
      "id": "357e2cc6",
      "metadata": {
        "id": "357e2cc6"
      },
      "source": [
        "**Pregunta 13.** En un experimento de 100 manos, se espera λ=2.5 naturales. ¿Qué probabilidad hay de tener a lo más 3 naturales?"
      ]
    },
    {
      "cell_type": "code",
      "execution_count": null,
      "id": "b8f3fa5e",
      "metadata": {
        "id": "b8f3fa5e"
      },
      "outputs": [],
      "source": [
        "from scipy.stats import poisson\n",
        "\n",
        "lam, k = 2.5, 3\n",
        "prob = poisson.cdf(k, mu=lam)\n",
        "print(f\"P(X≤3) = {prob:.4f}\")"
      ]
    },
    {
      "cell_type": "markdown",
      "id": "6c79b2b5",
      "metadata": {
        "id": "6c79b2b5"
      },
      "source": [
        "**Pregunta 14.** Si el promedio de busteos por sesión es λ=3.7, calcula la desviación estándar y el valor de k en el percentil 90."
      ]
    },
    {
      "cell_type": "code",
      "execution_count": null,
      "id": "e0fcb981",
      "metadata": {
        "id": "e0fcb981"
      },
      "outputs": [],
      "source": [
        "from scipy.stats import poisson\n",
        "\n",
        "lam = 3.7\n",
        "std = poisson.std(mu=lam)\n",
        "k90 = poisson.ppf(0.90, mu=lam)\n",
        "print(f\"σ = {std:.4f}, 90º percentil → k = {int(k90)}\")"
      ]
    },
    {
      "cell_type": "markdown",
      "id": "11009d76",
      "metadata": {
        "id": "11009d76"
      },
      "source": [
        "**Pregunta 15.** El tiempo (en minutos) entre grandes ganancias sigue X∼Exp(media=7). ¿Cuál es la probabilidad de esperar más de 12 min?"
      ]
    },
    {
      "cell_type": "code",
      "execution_count": null,
      "id": "3c844e3c",
      "metadata": {
        "id": "3c844e3c"
      },
      "outputs": [],
      "source": [
        "from scipy.stats import expon\n",
        "\n",
        "scale = 7\n",
        "prob = expon.sf(12, scale=scale)\n",
        "print(f\"P(X>12) = {prob:.4f}\")"
      ]
    },
    {
      "cell_type": "markdown",
      "id": "b82c5f74",
      "metadata": {
        "id": "b82c5f74"
      },
      "source": [
        "**Pregunta 16.** Un jugador estudia el tiempo hasta el primer natural: X∼Exp(λ=0.15). ¿Cuál es P(X<5)?"
      ]
    },
    {
      "cell_type": "code",
      "execution_count": null,
      "id": "d018aa48",
      "metadata": {
        "id": "d018aa48"
      },
      "outputs": [],
      "source": [
        "from scipy.stats import expon\n",
        "\n",
        "scale = 1/0.15\n",
        "prob = expon.cdf(5, scale=scale)\n",
        "print(f\"P(X<5) = {prob:.4f}\")"
      ]
    },
    {
      "cell_type": "markdown",
      "id": "402be4f8",
      "metadata": {
        "id": "402be4f8"
      },
      "source": [
        "**Pregunta 17.** Para la misma X∼Exp(λ=0.15), ¿cuál es la densidad en t=0?"
      ]
    },
    {
      "cell_type": "code",
      "execution_count": null,
      "id": "846bedfd",
      "metadata": {
        "id": "846bedfd"
      },
      "outputs": [],
      "source": [
        "from scipy.stats import expon\n",
        "\n",
        "scale = 1/0.15\n",
        "pdf0 = expon.pdf(0, scale=scale)\n",
        "print(f\"f(0) = {pdf0:.4f}\")"
      ]
    },
    {
      "cell_type": "markdown",
      "id": "70c33a76",
      "metadata": {
        "id": "70c33a76"
      },
      "source": [
        "**Pregunta 18.** El número de manos hasta obtener el primer blackjack natural se modela con X∼Geom(p=0.04). ¿Cuál es la probabilidad de que ocurra exactamente en la sexta mano?"
      ]
    },
    {
      "cell_type": "code",
      "execution_count": null,
      "id": "ff7da514",
      "metadata": {
        "id": "ff7da514"
      },
      "outputs": [],
      "source": [
        "from scipy.stats import geom\n",
        "\n",
        "p, k = 0.04, 6\n",
        "prob = geom.pmf(k, p)\n",
        "print(f\"P(X=6) = {prob:.4f}\")"
      ]
    },
    {
      "cell_type": "markdown",
      "id": "54226183",
      "metadata": {
        "id": "54226183"
      },
      "source": [
        "**Pregunta 19.** Con la misma p=0.04, ¿cuál es la probabilidad de que el primer natural tarde más de 8 manos?"
      ]
    },
    {
      "cell_type": "code",
      "execution_count": null,
      "id": "a08fc795",
      "metadata": {
        "id": "a08fc795"
      },
      "outputs": [],
      "source": [
        "from scipy.stats import geom\n",
        "\n",
        "p, k = 0.04, 8\n",
        "prob = geom.sf(k, p)\n",
        "print(f\"P(X>8) = {prob:.4f}\")"
      ]
    },
    {
      "cell_type": "markdown",
      "id": "377570ac",
      "metadata": {
        "id": "377570ac"
      },
      "source": [
        "**Pregunta 20.** En una mesa, el 35% de los jugadores usan conteo de cartas (p_ganar=0.58) y el resto (65%) juega sin él (p_ganar=0.44). ¿Cuál es la probabilidad de que un jugador elegido al azar gane la mano?"
      ]
    },
    {
      "cell_type": "code",
      "execution_count": null,
      "id": "172b803d",
      "metadata": {
        "id": "172b803d"
      },
      "outputs": [],
      "source": [
        "p = 0.35*0.58 + 0.65*0.44\n",
        "print(f\"P(gana) = {p:.4f}\")"
      ]
    }
  ],
  "metadata": {
    "colab": {
      "provenance": [],
      "include_colab_link": true
    },
    "language_info": {
      "name": "python"
    },
    "kernelspec": {
      "name": "python3",
      "display_name": "Python 3"
    }
  },
  "nbformat": 4,
  "nbformat_minor": 5
}