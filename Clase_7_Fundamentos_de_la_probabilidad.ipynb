{
  "nbformat": 4,
  "nbformat_minor": 0,
  "metadata": {
    "colab": {
      "provenance": [],
      "authorship_tag": "ABX9TyMVJOTn8J9BxIRPVumE3PLW",
      "include_colab_link": true
    },
    "kernelspec": {
      "name": "python3",
      "display_name": "Python 3"
    },
    "language_info": {
      "name": "python"
    }
  },
  "cells": [
    {
      "cell_type": "markdown",
      "metadata": {
        "id": "view-in-github",
        "colab_type": "text"
      },
      "source": [
        "<a href=\"https://colab.research.google.com/github/screid/Estadistica_Computacional_UGM/blob/main/Clase_7_Fundamentos_de_la_probabilidad.ipynb\" target=\"_parent\"><img src=\"https://colab.research.google.com/assets/colab-badge.svg\" alt=\"Open In Colab\"/></a>"
      ]
    },
    {
      "cell_type": "markdown",
      "source": [
        "# 1. Calculo de la probabilidad básica."
      ],
      "metadata": {
        "id": "s6UvRmBSuAEf"
      }
    },
    {
      "cell_type": "code",
      "execution_count": 1,
      "metadata": {
        "id": "8rlxPgnvtshw"
      },
      "outputs": [],
      "source": [
        "# ¿Cuál es la probabilidad de obtener un número par?\n",
        "casos_favorables = 3 # {2, 4, 6}\n",
        "casos_totales = 6\n",
        "probabilidad = casos_favorables / casos_totales"
      ]
    },
    {
      "cell_type": "code",
      "source": [
        "print(\"La probabilidad de obtener un número par es:\", probabilidad*100, \"%\")"
      ],
      "metadata": {
        "colab": {
          "base_uri": "https://localhost:8080/"
        },
        "id": "T0UcyCkquB5U",
        "outputId": "721076e6-df3d-4982-9b92-4c9cb8c2fd27"
      },
      "execution_count": 2,
      "outputs": [
        {
          "output_type": "stream",
          "name": "stdout",
          "text": [
            "La probabilidad de obtener un número par es: 50.0 %\n"
          ]
        }
      ]
    },
    {
      "cell_type": "markdown",
      "source": [
        "# 2. Probabilidad condicional."
      ],
      "metadata": {
        "id": "Q6kkAKzVuXix"
      }
    },
    {
      "cell_type": "code",
      "source": [
        "# Ejemplo visto en clases.\n",
        "\n",
        "# Definir los datos del problema\n",
        "prob_hombres = 0.6\n",
        "prob_mujeres = 0.4\n",
        "prob_aprueba_hombres = 0.7\n",
        "prob_aprueba_mujeres = 0.8\n",
        "\n",
        "# Calcular la probabilidad total de aprobar\n",
        "prob_aprobar = (prob_hombres * prob_aprueba_hombres) + (prob_mujeres * prob_aprueba_mujeres)\n",
        "\n",
        "# Calcular probabilidad condicional\n",
        "prob_mujer_dado_aprobo = (prob_mujeres * prob_aprueba_mujeres) / prob_aprobar\n",
        "\n",
        "# Obtener resultado:\n",
        "print(f\"La probabilidad de que un empleado que aprobó sea mujer es: {prob_mujer_dado_aprobo:.2f}\")"
      ],
      "metadata": {
        "colab": {
          "base_uri": "https://localhost:8080/"
        },
        "id": "rN1BOopluIwY",
        "outputId": "6dcccf3b-5460-490a-9b74-78be80093563"
      },
      "execution_count": 3,
      "outputs": [
        {
          "output_type": "stream",
          "name": "stdout",
          "text": [
            "La probabilidad de que un empleado que aprobó sea mujer es: 0.43\n"
          ]
        }
      ]
    },
    {
      "cell_type": "code",
      "source": [],
      "metadata": {
        "id": "UcGLxdSXuogx"
      },
      "execution_count": null,
      "outputs": []
    }
  ]
}