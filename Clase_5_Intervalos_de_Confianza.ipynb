{
  "nbformat": 4,
  "nbformat_minor": 0,
  "metadata": {
    "colab": {
      "provenance": [],
      "authorship_tag": "ABX9TyOjI8iLioJJ4ak/RB7/UOWd",
      "include_colab_link": true
    },
    "kernelspec": {
      "name": "python3",
      "display_name": "Python 3"
    },
    "language_info": {
      "name": "python"
    }
  },
  "cells": [
    {
      "cell_type": "markdown",
      "metadata": {
        "id": "view-in-github",
        "colab_type": "text"
      },
      "source": [
        "<a href=\"https://colab.research.google.com/github/screid/Estadistica_Computacional_UGM/blob/main/Clase_5_Intervalos_de_Confianza.ipynb\" target=\"_parent\"><img src=\"https://colab.research.google.com/assets/colab-badge.svg\" alt=\"Open In Colab\"/></a>"
      ]
    },
    {
      "cell_type": "code",
      "execution_count": 1,
      "metadata": {
        "colab": {
          "base_uri": "https://localhost:8080/"
        },
        "id": "_lDxQxdBiKFl",
        "outputId": "3c922466-3f41-4241-c9b4-05b8e2e16756"
      },
      "outputs": [
        {
          "output_type": "stream",
          "name": "stdout",
          "text": [
            "Intervalo de Confianza al 95%: (47.00, 50.92)\n"
          ]
        }
      ],
      "source": [
        "import numpy as np\n",
        "import scipy.stats as stats\n",
        "\n",
        "# Datos simulados (muestra)\n",
        "np.random.seed(42)\n",
        "datos = np.random.normal(loc=50, scale=10, size=100)  # Media 50, Desviación 10, Tamaño 100\n",
        "\n",
        "# Parámetros\n",
        "media_muestral = np.mean(datos)\n",
        "desviacion_poblacional = 10  # Conocida\n",
        "n = len(datos)\n",
        "nivel_confianza = 0.95\n",
        "\n",
        "# Valor crítico Z para 95%\n",
        "z = stats.norm.ppf((1 + nivel_confianza) / 2)\n",
        "\n",
        "# Cálculo del margen de error\n",
        "margen_error = z * (desviacion_poblacional / np.sqrt(n))\n",
        "\n",
        "# Intervalo de confianza\n",
        "IC_min = media_muestral - margen_error\n",
        "IC_max = media_muestral + margen_error\n",
        "\n",
        "print(f\"Intervalo de Confianza al 95%: ({IC_min:.2f}, {IC_max:.2f})\")"
      ]
    },
    {
      "cell_type": "code",
      "source": [
        "# Calcular desviación estándar muestral\n",
        "desviacion_muestral = np.std(datos, ddof=1)\n",
        "\n",
        "# Valor crítico t para 95% con n-1 grados de libertad\n",
        "t = stats.t.ppf((1 + nivel_confianza) / 2, df=n-1)\n",
        "\n",
        "# Cálculo del margen de error\n",
        "margen_error_t = t * (desviacion_muestral / np.sqrt(n))\n",
        "\n",
        "# Intervalo de confianza\n",
        "IC_min_t = media_muestral - margen_error_t\n",
        "IC_max_t = media_muestral + margen_error_t\n",
        "\n",
        "print(f\"Intervalo de Confianza al 95% (usando t): ({IC_min_t:.2f}, {IC_max_t:.2f})\")\n"
      ],
      "metadata": {
        "colab": {
          "base_uri": "https://localhost:8080/"
        },
        "id": "I3VBE3dWiTCd",
        "outputId": "cada4f1d-7cfb-4f10-9ca7-c3f72af6c031"
      },
      "execution_count": 2,
      "outputs": [
        {
          "output_type": "stream",
          "name": "stdout",
          "text": [
            "Intervalo de Confianza al 95% (usando t): (47.16, 50.76)\n"
          ]
        }
      ]
    },
    {
      "cell_type": "code",
      "source": [
        "import pandas as pd\n",
        "\n",
        "# Simulación de dataset\n",
        "df = pd.DataFrame({\n",
        "    \"Cliente\": range(1, 51),\n",
        "    \"Edad\": np.random.randint(18, 60, 50)  # Edades entre 18 y 60 años\n",
        "})\n",
        "\n",
        "# Calcular intervalo de confianza para la media de edad\n",
        "media_edad = df[\"Edad\"].mean()\n",
        "desviacion_edad = df[\"Edad\"].std()\n",
        "n_edad = len(df)\n",
        "\n",
        "# IC al 95% usando t de Student\n",
        "t_edad = stats.t.ppf((1 + 0.95) / 2, df=n_edad-1)\n",
        "margen_error_edad = t_edad * (desviacion_edad / np.sqrt(n_edad))\n",
        "\n",
        "IC_min_edad = media_edad - margen_error_edad\n",
        "IC_max_edad = media_edad + margen_error_edad\n",
        "\n",
        "print(f\"Intervalo de Confianza al 95% para la Edad Promedio: ({IC_min_edad:.2f}, {IC_max_edad:.2f})\")\n"
      ],
      "metadata": {
        "colab": {
          "base_uri": "https://localhost:8080/"
        },
        "id": "X-wxyBjEiZkj",
        "outputId": "86113697-591b-4e60-b071-ddb90f12fcaa"
      },
      "execution_count": 3,
      "outputs": [
        {
          "output_type": "stream",
          "name": "stdout",
          "text": [
            "Intervalo de Confianza al 95% para la Edad Promedio: (33.98, 41.34)\n"
          ]
        }
      ]
    },
    {
      "cell_type": "code",
      "source": [],
      "metadata": {
        "id": "ca474Y_zic_F"
      },
      "execution_count": null,
      "outputs": []
    }
  ]
}