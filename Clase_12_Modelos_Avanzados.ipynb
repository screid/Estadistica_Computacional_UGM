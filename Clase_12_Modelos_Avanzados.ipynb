{
  "cells": [
    {
      "cell_type": "markdown",
      "metadata": {
        "id": "view-in-github",
        "colab_type": "text"
      },
      "source": [
        "<a href=\"https://colab.research.google.com/github/screid/Estadistica_Computacional_UGM/blob/main/Clase_12_Modelos_Avanzados.ipynb\" target=\"_parent\"><img src=\"https://colab.research.google.com/assets/colab-badge.svg\" alt=\"Open In Colab\"/></a>"
      ]
    },
    {
      "cell_type": "code",
      "execution_count": 1,
      "id": "a1e67ba6",
      "metadata": {
        "id": "a1e67ba6"
      },
      "outputs": [],
      "source": [
        "import numpy as np\n",
        "import pandas as pd\n",
        "import statsmodels.api as sm\n",
        "import matplotlib.pyplot as plt\n",
        "from statsmodels.formula.api import mixedlm\n",
        "%config InlineBackend.figure_format = 'retina'"
      ]
    },
    {
      "cell_type": "markdown",
      "id": "6eedfbcb",
      "metadata": {
        "id": "6eedfbcb"
      },
      "source": [
        "## 1 · Regresión Logística (Binomial GLM)"
      ]
    },
    {
      "cell_type": "markdown",
      "id": "989755da",
      "metadata": {
        "id": "989755da"
      },
      "source": [
        "Usaremos la versión tabular del famoso dataset del *Titanic*.  \n",
        "La variable `Survived` (0 = No, 1 = Sí) será la respuesta."
      ]
    },
    {
      "cell_type": "markdown",
      "source": [
        "## 1.1. Dataset y modelo"
      ],
      "metadata": {
        "id": "X9CrendI224Z"
      },
      "id": "X9CrendI224Z"
    },
    {
      "cell_type": "code",
      "execution_count": 3,
      "id": "8481839a",
      "metadata": {
        "id": "8481839a"
      },
      "outputs": [],
      "source": [
        "# 1. Cargar y “aplanar” el Titanic\n",
        "titanic = sm.datasets.get_rdataset('Titanic', package='datasets').data\n",
        "titanic = titanic.loc[titanic.index.repeat(titanic['Freq'])].reset_index(drop=True)"
      ]
    },
    {
      "cell_type": "code",
      "source": [
        "titanic.head()"
      ],
      "metadata": {
        "colab": {
          "base_uri": "https://localhost:8080/",
          "height": 206
        },
        "id": "fcULVGIK4xC5",
        "outputId": "beb5944c-f394-421c-b0a3-a2a187b9457d"
      },
      "id": "fcULVGIK4xC5",
      "execution_count": 8,
      "outputs": [
        {
          "output_type": "execute_result",
          "data": {
            "text/plain": [
              "   Class  Sex  Age  Survived  Freq\n",
              "0      3    1    0         0    35\n",
              "1      3    1    0         0    35\n",
              "2      3    1    0         0    35\n",
              "3      3    1    0         0    35\n",
              "4      3    1    0         0    35"
            ],
            "text/html": [
              "\n",
              "  <div id=\"df-ec1483d4-8e76-4f35-956b-e59b587de583\" class=\"colab-df-container\">\n",
              "    <div>\n",
              "<style scoped>\n",
              "    .dataframe tbody tr th:only-of-type {\n",
              "        vertical-align: middle;\n",
              "    }\n",
              "\n",
              "    .dataframe tbody tr th {\n",
              "        vertical-align: top;\n",
              "    }\n",
              "\n",
              "    .dataframe thead th {\n",
              "        text-align: right;\n",
              "    }\n",
              "</style>\n",
              "<table border=\"1\" class=\"dataframe\">\n",
              "  <thead>\n",
              "    <tr style=\"text-align: right;\">\n",
              "      <th></th>\n",
              "      <th>Class</th>\n",
              "      <th>Sex</th>\n",
              "      <th>Age</th>\n",
              "      <th>Survived</th>\n",
              "      <th>Freq</th>\n",
              "    </tr>\n",
              "  </thead>\n",
              "  <tbody>\n",
              "    <tr>\n",
              "      <th>0</th>\n",
              "      <td>3</td>\n",
              "      <td>1</td>\n",
              "      <td>0</td>\n",
              "      <td>0</td>\n",
              "      <td>35</td>\n",
              "    </tr>\n",
              "    <tr>\n",
              "      <th>1</th>\n",
              "      <td>3</td>\n",
              "      <td>1</td>\n",
              "      <td>0</td>\n",
              "      <td>0</td>\n",
              "      <td>35</td>\n",
              "    </tr>\n",
              "    <tr>\n",
              "      <th>2</th>\n",
              "      <td>3</td>\n",
              "      <td>1</td>\n",
              "      <td>0</td>\n",
              "      <td>0</td>\n",
              "      <td>35</td>\n",
              "    </tr>\n",
              "    <tr>\n",
              "      <th>3</th>\n",
              "      <td>3</td>\n",
              "      <td>1</td>\n",
              "      <td>0</td>\n",
              "      <td>0</td>\n",
              "      <td>35</td>\n",
              "    </tr>\n",
              "    <tr>\n",
              "      <th>4</th>\n",
              "      <td>3</td>\n",
              "      <td>1</td>\n",
              "      <td>0</td>\n",
              "      <td>0</td>\n",
              "      <td>35</td>\n",
              "    </tr>\n",
              "  </tbody>\n",
              "</table>\n",
              "</div>\n",
              "    <div class=\"colab-df-buttons\">\n",
              "\n",
              "  <div class=\"colab-df-container\">\n",
              "    <button class=\"colab-df-convert\" onclick=\"convertToInteractive('df-ec1483d4-8e76-4f35-956b-e59b587de583')\"\n",
              "            title=\"Convert this dataframe to an interactive table.\"\n",
              "            style=\"display:none;\">\n",
              "\n",
              "  <svg xmlns=\"http://www.w3.org/2000/svg\" height=\"24px\" viewBox=\"0 -960 960 960\">\n",
              "    <path d=\"M120-120v-720h720v720H120Zm60-500h600v-160H180v160Zm220 220h160v-160H400v160Zm0 220h160v-160H400v160ZM180-400h160v-160H180v160Zm440 0h160v-160H620v160ZM180-180h160v-160H180v160Zm440 0h160v-160H620v160Z\"/>\n",
              "  </svg>\n",
              "    </button>\n",
              "\n",
              "  <style>\n",
              "    .colab-df-container {\n",
              "      display:flex;\n",
              "      gap: 12px;\n",
              "    }\n",
              "\n",
              "    .colab-df-convert {\n",
              "      background-color: #E8F0FE;\n",
              "      border: none;\n",
              "      border-radius: 50%;\n",
              "      cursor: pointer;\n",
              "      display: none;\n",
              "      fill: #1967D2;\n",
              "      height: 32px;\n",
              "      padding: 0 0 0 0;\n",
              "      width: 32px;\n",
              "    }\n",
              "\n",
              "    .colab-df-convert:hover {\n",
              "      background-color: #E2EBFA;\n",
              "      box-shadow: 0px 1px 2px rgba(60, 64, 67, 0.3), 0px 1px 3px 1px rgba(60, 64, 67, 0.15);\n",
              "      fill: #174EA6;\n",
              "    }\n",
              "\n",
              "    .colab-df-buttons div {\n",
              "      margin-bottom: 4px;\n",
              "    }\n",
              "\n",
              "    [theme=dark] .colab-df-convert {\n",
              "      background-color: #3B4455;\n",
              "      fill: #D2E3FC;\n",
              "    }\n",
              "\n",
              "    [theme=dark] .colab-df-convert:hover {\n",
              "      background-color: #434B5C;\n",
              "      box-shadow: 0px 1px 3px 1px rgba(0, 0, 0, 0.15);\n",
              "      filter: drop-shadow(0px 1px 2px rgba(0, 0, 0, 0.3));\n",
              "      fill: #FFFFFF;\n",
              "    }\n",
              "  </style>\n",
              "\n",
              "    <script>\n",
              "      const buttonEl =\n",
              "        document.querySelector('#df-ec1483d4-8e76-4f35-956b-e59b587de583 button.colab-df-convert');\n",
              "      buttonEl.style.display =\n",
              "        google.colab.kernel.accessAllowed ? 'block' : 'none';\n",
              "\n",
              "      async function convertToInteractive(key) {\n",
              "        const element = document.querySelector('#df-ec1483d4-8e76-4f35-956b-e59b587de583');\n",
              "        const dataTable =\n",
              "          await google.colab.kernel.invokeFunction('convertToInteractive',\n",
              "                                                    [key], {});\n",
              "        if (!dataTable) return;\n",
              "\n",
              "        const docLinkHtml = 'Like what you see? Visit the ' +\n",
              "          '<a target=\"_blank\" href=https://colab.research.google.com/notebooks/data_table.ipynb>data table notebook</a>'\n",
              "          + ' to learn more about interactive tables.';\n",
              "        element.innerHTML = '';\n",
              "        dataTable['output_type'] = 'display_data';\n",
              "        await google.colab.output.renderOutput(dataTable, element);\n",
              "        const docLink = document.createElement('div');\n",
              "        docLink.innerHTML = docLinkHtml;\n",
              "        element.appendChild(docLink);\n",
              "      }\n",
              "    </script>\n",
              "  </div>\n",
              "\n",
              "\n",
              "    <div id=\"df-180ca492-7018-420c-844c-eb660d96189a\">\n",
              "      <button class=\"colab-df-quickchart\" onclick=\"quickchart('df-180ca492-7018-420c-844c-eb660d96189a')\"\n",
              "                title=\"Suggest charts\"\n",
              "                style=\"display:none;\">\n",
              "\n",
              "<svg xmlns=\"http://www.w3.org/2000/svg\" height=\"24px\"viewBox=\"0 0 24 24\"\n",
              "     width=\"24px\">\n",
              "    <g>\n",
              "        <path d=\"M19 3H5c-1.1 0-2 .9-2 2v14c0 1.1.9 2 2 2h14c1.1 0 2-.9 2-2V5c0-1.1-.9-2-2-2zM9 17H7v-7h2v7zm4 0h-2V7h2v10zm4 0h-2v-4h2v4z\"/>\n",
              "    </g>\n",
              "</svg>\n",
              "      </button>\n",
              "\n",
              "<style>\n",
              "  .colab-df-quickchart {\n",
              "      --bg-color: #E8F0FE;\n",
              "      --fill-color: #1967D2;\n",
              "      --hover-bg-color: #E2EBFA;\n",
              "      --hover-fill-color: #174EA6;\n",
              "      --disabled-fill-color: #AAA;\n",
              "      --disabled-bg-color: #DDD;\n",
              "  }\n",
              "\n",
              "  [theme=dark] .colab-df-quickchart {\n",
              "      --bg-color: #3B4455;\n",
              "      --fill-color: #D2E3FC;\n",
              "      --hover-bg-color: #434B5C;\n",
              "      --hover-fill-color: #FFFFFF;\n",
              "      --disabled-bg-color: #3B4455;\n",
              "      --disabled-fill-color: #666;\n",
              "  }\n",
              "\n",
              "  .colab-df-quickchart {\n",
              "    background-color: var(--bg-color);\n",
              "    border: none;\n",
              "    border-radius: 50%;\n",
              "    cursor: pointer;\n",
              "    display: none;\n",
              "    fill: var(--fill-color);\n",
              "    height: 32px;\n",
              "    padding: 0;\n",
              "    width: 32px;\n",
              "  }\n",
              "\n",
              "  .colab-df-quickchart:hover {\n",
              "    background-color: var(--hover-bg-color);\n",
              "    box-shadow: 0 1px 2px rgba(60, 64, 67, 0.3), 0 1px 3px 1px rgba(60, 64, 67, 0.15);\n",
              "    fill: var(--button-hover-fill-color);\n",
              "  }\n",
              "\n",
              "  .colab-df-quickchart-complete:disabled,\n",
              "  .colab-df-quickchart-complete:disabled:hover {\n",
              "    background-color: var(--disabled-bg-color);\n",
              "    fill: var(--disabled-fill-color);\n",
              "    box-shadow: none;\n",
              "  }\n",
              "\n",
              "  .colab-df-spinner {\n",
              "    border: 2px solid var(--fill-color);\n",
              "    border-color: transparent;\n",
              "    border-bottom-color: var(--fill-color);\n",
              "    animation:\n",
              "      spin 1s steps(1) infinite;\n",
              "  }\n",
              "\n",
              "  @keyframes spin {\n",
              "    0% {\n",
              "      border-color: transparent;\n",
              "      border-bottom-color: var(--fill-color);\n",
              "      border-left-color: var(--fill-color);\n",
              "    }\n",
              "    20% {\n",
              "      border-color: transparent;\n",
              "      border-left-color: var(--fill-color);\n",
              "      border-top-color: var(--fill-color);\n",
              "    }\n",
              "    30% {\n",
              "      border-color: transparent;\n",
              "      border-left-color: var(--fill-color);\n",
              "      border-top-color: var(--fill-color);\n",
              "      border-right-color: var(--fill-color);\n",
              "    }\n",
              "    40% {\n",
              "      border-color: transparent;\n",
              "      border-right-color: var(--fill-color);\n",
              "      border-top-color: var(--fill-color);\n",
              "    }\n",
              "    60% {\n",
              "      border-color: transparent;\n",
              "      border-right-color: var(--fill-color);\n",
              "    }\n",
              "    80% {\n",
              "      border-color: transparent;\n",
              "      border-right-color: var(--fill-color);\n",
              "      border-bottom-color: var(--fill-color);\n",
              "    }\n",
              "    90% {\n",
              "      border-color: transparent;\n",
              "      border-bottom-color: var(--fill-color);\n",
              "    }\n",
              "  }\n",
              "</style>\n",
              "\n",
              "      <script>\n",
              "        async function quickchart(key) {\n",
              "          const quickchartButtonEl =\n",
              "            document.querySelector('#' + key + ' button');\n",
              "          quickchartButtonEl.disabled = true;  // To prevent multiple clicks.\n",
              "          quickchartButtonEl.classList.add('colab-df-spinner');\n",
              "          try {\n",
              "            const charts = await google.colab.kernel.invokeFunction(\n",
              "                'suggestCharts', [key], {});\n",
              "          } catch (error) {\n",
              "            console.error('Error during call to suggestCharts:', error);\n",
              "          }\n",
              "          quickchartButtonEl.classList.remove('colab-df-spinner');\n",
              "          quickchartButtonEl.classList.add('colab-df-quickchart-complete');\n",
              "        }\n",
              "        (() => {\n",
              "          let quickchartButtonEl =\n",
              "            document.querySelector('#df-180ca492-7018-420c-844c-eb660d96189a button');\n",
              "          quickchartButtonEl.style.display =\n",
              "            google.colab.kernel.accessAllowed ? 'block' : 'none';\n",
              "        })();\n",
              "      </script>\n",
              "    </div>\n",
              "\n",
              "    </div>\n",
              "  </div>\n"
            ],
            "application/vnd.google.colaboratory.intrinsic+json": {
              "type": "dataframe",
              "variable_name": "titanic",
              "summary": "{\n  \"name\": \"titanic\",\n  \"rows\": 2201,\n  \"fields\": [\n    {\n      \"column\": \"Class\",\n      \"properties\": {\n        \"dtype\": \"number\",\n        \"std\": 1,\n        \"min\": 1,\n        \"max\": 4,\n        \"num_unique_values\": 4,\n        \"samples\": [\n          1,\n          4,\n          3\n        ],\n        \"semantic_type\": \"\",\n        \"description\": \"\"\n      }\n    },\n    {\n      \"column\": \"Sex\",\n      \"properties\": {\n        \"dtype\": \"number\",\n        \"std\": 0,\n        \"min\": 0,\n        \"max\": 1,\n        \"num_unique_values\": 2,\n        \"samples\": [\n          0,\n          1\n        ],\n        \"semantic_type\": \"\",\n        \"description\": \"\"\n      }\n    },\n    {\n      \"column\": \"Age\",\n      \"properties\": {\n        \"dtype\": \"number\",\n        \"std\": 0,\n        \"min\": 0,\n        \"max\": 1,\n        \"num_unique_values\": 2,\n        \"samples\": [\n          1,\n          0\n        ],\n        \"semantic_type\": \"\",\n        \"description\": \"\"\n      }\n    },\n    {\n      \"column\": \"Survived\",\n      \"properties\": {\n        \"dtype\": \"number\",\n        \"std\": 0,\n        \"min\": 0,\n        \"max\": 1,\n        \"num_unique_values\": 2,\n        \"samples\": [\n          1,\n          0\n        ],\n        \"semantic_type\": \"\",\n        \"description\": \"\"\n      }\n    },\n    {\n      \"column\": \"Freq\",\n      \"properties\": {\n        \"dtype\": \"number\",\n        \"std\": 250,\n        \"min\": 1,\n        \"max\": 670,\n        \"num_unique_values\": 21,\n        \"samples\": [\n          35,\n          140\n        ],\n        \"semantic_type\": \"\",\n        \"description\": \"\"\n      }\n    }\n  ]\n}"
            }
          },
          "metadata": {},
          "execution_count": 8
        }
      ]
    },
    {
      "cell_type": "code",
      "source": [
        "# 2. Codificar variables (pasarlas de numéricas a categóricas)\n",
        "titanic['Survived'] = (titanic['Survived'] == 'Yes').astype(int)\n",
        "titanic['Sex']      = (titanic['Sex'] == 'Male').astype(int)\n",
        "titanic['Age']      = (titanic['Age'] == 'Adult').astype(int)\n",
        "titanic['Class']    = titanic['Class'].map({'1st': 1, '2nd': 2, '3rd': 3, 'Crew': 4})"
      ],
      "metadata": {
        "id": "Ehnb14fL1ftA"
      },
      "id": "Ehnb14fL1ftA",
      "execution_count": 4,
      "outputs": []
    },
    {
      "cell_type": "code",
      "source": [
        "# 3. Matrices para el GLM\n",
        "X = sm.add_constant(titanic[['Sex', 'Age', 'Class']].astype(float))\n",
        "y = titanic['Survived']\n",
        "\n",
        "logit_model = sm.GLM(y, X, family=sm.families.Binomial()).fit()\n",
        "print(logit_model.summary())"
      ],
      "metadata": {
        "colab": {
          "base_uri": "https://localhost:8080/"
        },
        "id": "48wcb8-x1fwa",
        "outputId": "09935055-9e4f-4f73-a67e-c182588e4bb4"
      },
      "id": "48wcb8-x1fwa",
      "execution_count": 5,
      "outputs": [
        {
          "output_type": "stream",
          "name": "stdout",
          "text": [
            "                 Generalized Linear Model Regression Results                  \n",
            "==============================================================================\n",
            "Dep. Variable:               Survived   No. Observations:                 2201\n",
            "Model:                            GLM   Df Residuals:                     2197\n",
            "Model Family:                Binomial   Df Model:                            3\n",
            "Link Function:                  Logit   Scale:                          1.0000\n",
            "Method:                          IRLS   Log-Likelihood:                -1149.6\n",
            "Date:                Tue, 27 May 2025   Deviance:                       2299.2\n",
            "Time:                        22:21:28   Pearson chi2:                 2.22e+03\n",
            "No. Iterations:                     4   Pseudo R-squ. (CS):             0.1924\n",
            "Covariance Type:            nonrobust                                         \n",
            "==============================================================================\n",
            "                 coef    std err          z      P>|z|      [0.025      0.975]\n",
            "------------------------------------------------------------------------------\n",
            "const          2.0990      0.255      8.218      0.000       1.598       2.600\n",
            "Sex           -2.0580      0.126    -16.328      0.000      -2.305      -1.811\n",
            "Age           -0.5115      0.223     -2.294      0.022      -0.948      -0.075\n",
            "Class         -0.2783      0.050     -5.515      0.000      -0.377      -0.179\n",
            "==============================================================================\n"
          ]
        }
      ]
    },
    {
      "cell_type": "markdown",
      "source": [
        "## 1.2. Interpretación de resultados\n",
        "\n",
        "| Término             | Coef. (β) | **exp(β)** | 95 % IC de exp(β) | p-valor | Lectura práctica                                                                                          |\n",
        "| ------------------- | --------- | ---------- | ----------------- | ------- | --------------------------------------------------------------------------------------------------------- |\n",
        "| **const**           | +2.099    | **8.16**   | 4.95 – 13.46      | <0.001  | Basándose en una mujer, niña, de 1ª clase, la probabilidad base de sobrevivir es alta (odds ≈ 8 : 1).     |\n",
        "| **Sex (Male = 1)**  | –2.058    | **0.13**   | 0.10 – 0.16       | <0.001  | Ser hombre reduce las odds de supervivencia ≈ 87 % (1 – 0.13).                                            |\n",
        "| **Age (Adult = 1)** | –0.512    | **0.60**   | 0.39 – 0.93       | 0.022   | Ser adulto disminuye las odds de sobrevivir ≈ 40 % frente a un niño, manteniendo todo lo demás constante. |\n",
        "| **Class**           | –0.278    | **0.76**   | 0.69 – 0.84       | <0.001  | Cada nivel “más bajo” de clase (1→2, 2→3, 3→Crew) reduce las odds ≈ 24 %.                                 |\n"
      ],
      "metadata": {
        "id": "FkLaxx1b2SJf"
      },
      "id": "FkLaxx1b2SJf"
    },
    {
      "cell_type": "markdown",
      "source": [
        "Detalle interpretación\n",
        "\n",
        "* exp(β) da el odds ratio:\n",
        "\n",
        "  * < 1 ⇒ factor protector (odds bajan), > 1 ⇒ factor de riesgo (odds suben).\n",
        "\n",
        "* El efecto de sexo es el más fuerte; ser hombre multiplica las odds por 0.13.\n",
        "\n",
        "* El pseudo-R² de Cox-Snell (0.19) indica que el modelo explica ~19 % de la variabilidad—razonable para datos de supervivencia.\n",
        "\n",
        "* Todos los coeficientes son estadísticamente significativos (p < 0.05).\n",
        "\n",
        "* Ejemplo numérico\n",
        "  ** Para un hombre adulto de 3ª clase:\n",
        "\n",
        "  $log_{odds} = 2.099-2.058(1) - 0.512(1) - 0.278(3) = - 1.285$\n",
        "\n",
        "Odds = $e^{-1.285} ≈ 0.28$ → Probabilidad ≈ 0.22 (22 %)."
      ],
      "metadata": {
        "id": "jgvd2LQn3NVz"
      },
      "id": "jgvd2LQn3NVz"
    },
    {
      "cell_type": "markdown",
      "source": [
        "**Nota 1:** El modelo resultante sería: $log_{odds} = \\beta_0 + \\beta_{sex} x_{sex} + \\beta_{age} x_{age} + \\beta_{class} x_{class}$\n",
        "\n",
        "**Nota 2:** const representa la log-odds de supervivencia cuando Sex = 0 (mujer), Age = 0 (niña) y Class = 0 (una categoría fuera de los datos). De igual manera, β0 (el const) es la log-odds de sobrevivir cuando todas las variables explicativas valen 0."
      ],
      "metadata": {
        "id": "eVpFV1xO26VL"
      },
      "id": "eVpFV1xO26VL"
    },
    {
      "cell_type": "markdown",
      "id": "455cfa65",
      "metadata": {
        "id": "455cfa65"
      },
      "source": [
        "## 2 · Regresión de Poisson (conteos)"
      ]
    },
    {
      "cell_type": "markdown",
      "source": [
        "## 2.1. Dataset y modelo"
      ],
      "metadata": {
        "id": "i7unKZVU5VxK"
      },
      "id": "i7unKZVU5VxK"
    },
    {
      "cell_type": "markdown",
      "id": "17289e50",
      "metadata": {
        "id": "17289e50"
      },
      "source": [
        "Generaremos un ejemplo artificial: número de llamadas recibidas por hora, con un indicador `hora_pico` (0/1)."
      ]
    },
    {
      "cell_type": "code",
      "execution_count": 7,
      "id": "d94dc0a6",
      "metadata": {
        "colab": {
          "base_uri": "https://localhost:8080/",
          "height": 291
        },
        "id": "d94dc0a6",
        "outputId": "b394ffca-9736-44c2-f6d4-4530ff3b4939"
      },
      "outputs": [
        {
          "output_type": "execute_result",
          "data": {
            "text/plain": [
              "<class 'statsmodels.iolib.summary.Summary'>\n",
              "\"\"\"\n",
              "                 Generalized Linear Model Regression Results                  \n",
              "==============================================================================\n",
              "Dep. Variable:               llamadas   No. Observations:                  200\n",
              "Model:                            GLM   Df Residuals:                      198\n",
              "Model Family:                 Poisson   Df Model:                            1\n",
              "Link Function:                    Log   Scale:                          1.0000\n",
              "Method:                          IRLS   Log-Likelihood:                -400.76\n",
              "Date:                Tue, 27 May 2025   Deviance:                       245.49\n",
              "Time:                        22:33:42   Pearson chi2:                     222.\n",
              "No. Iterations:                     4   Pseudo R-squ. (CS):           0.004345\n",
              "Covariance Type:            nonrobust                                         \n",
              "==============================================================================\n",
              "                 coef    std err          z      P>|z|      [0.025      0.975]\n",
              "------------------------------------------------------------------------------\n",
              "const          1.1736      0.054     21.830      0.000       1.068       1.279\n",
              "hora_pico     -0.0750      0.080     -0.932      0.351      -0.233       0.083\n",
              "==============================================================================\n",
              "\"\"\""
            ],
            "text/html": [
              "<table class=\"simpletable\">\n",
              "<caption>Generalized Linear Model Regression Results</caption>\n",
              "<tr>\n",
              "  <th>Dep. Variable:</th>       <td>llamadas</td>     <th>  No. Observations:  </th>  <td>   200</td> \n",
              "</tr>\n",
              "<tr>\n",
              "  <th>Model:</th>                  <td>GLM</td>       <th>  Df Residuals:      </th>  <td>   198</td> \n",
              "</tr>\n",
              "<tr>\n",
              "  <th>Model Family:</th>         <td>Poisson</td>     <th>  Df Model:          </th>  <td>     1</td> \n",
              "</tr>\n",
              "<tr>\n",
              "  <th>Link Function:</th>          <td>Log</td>       <th>  Scale:             </th> <td>  1.0000</td>\n",
              "</tr>\n",
              "<tr>\n",
              "  <th>Method:</th>                <td>IRLS</td>       <th>  Log-Likelihood:    </th> <td> -400.76</td>\n",
              "</tr>\n",
              "<tr>\n",
              "  <th>Date:</th>            <td>Tue, 27 May 2025</td> <th>  Deviance:          </th> <td>  245.49</td>\n",
              "</tr>\n",
              "<tr>\n",
              "  <th>Time:</th>                <td>22:33:42</td>     <th>  Pearson chi2:      </th>  <td>  222.</td> \n",
              "</tr>\n",
              "<tr>\n",
              "  <th>No. Iterations:</th>          <td>4</td>        <th>  Pseudo R-squ. (CS):</th> <td>0.004345</td>\n",
              "</tr>\n",
              "<tr>\n",
              "  <th>Covariance Type:</th>     <td>nonrobust</td>    <th>                     </th>     <td> </td>   \n",
              "</tr>\n",
              "</table>\n",
              "<table class=\"simpletable\">\n",
              "<tr>\n",
              "      <td></td>         <th>coef</th>     <th>std err</th>      <th>z</th>      <th>P>|z|</th>  <th>[0.025</th>    <th>0.975]</th>  \n",
              "</tr>\n",
              "<tr>\n",
              "  <th>const</th>     <td>    1.1736</td> <td>    0.054</td> <td>   21.830</td> <td> 0.000</td> <td>    1.068</td> <td>    1.279</td>\n",
              "</tr>\n",
              "<tr>\n",
              "  <th>hora_pico</th> <td>   -0.0750</td> <td>    0.080</td> <td>   -0.932</td> <td> 0.351</td> <td>   -0.233</td> <td>    0.083</td>\n",
              "</tr>\n",
              "</table>"
            ],
            "text/latex": "\\begin{center}\n\\begin{tabular}{lclc}\n\\toprule\n\\textbf{Dep. Variable:}   &     llamadas     & \\textbf{  No. Observations:  } &      200    \\\\\n\\textbf{Model:}           &       GLM        & \\textbf{  Df Residuals:      } &      198    \\\\\n\\textbf{Model Family:}    &     Poisson      & \\textbf{  Df Model:          } &        1    \\\\\n\\textbf{Link Function:}   &       Log        & \\textbf{  Scale:             } &    1.0000   \\\\\n\\textbf{Method:}          &       IRLS       & \\textbf{  Log-Likelihood:    } &   -400.76   \\\\\n\\textbf{Date:}            & Tue, 27 May 2025 & \\textbf{  Deviance:          } &    245.49   \\\\\n\\textbf{Time:}            &     22:33:42     & \\textbf{  Pearson chi2:      } &     222.    \\\\\n\\textbf{No. Iterations:}  &        4         & \\textbf{  Pseudo R-squ. (CS):} &  0.004345   \\\\\n\\textbf{Covariance Type:} &    nonrobust     & \\textbf{                     } &             \\\\\n\\bottomrule\n\\end{tabular}\n\\begin{tabular}{lcccccc}\n                    & \\textbf{coef} & \\textbf{std err} & \\textbf{z} & \\textbf{P$> |$z$|$} & \\textbf{[0.025} & \\textbf{0.975]}  \\\\\n\\midrule\n\\textbf{const}      &       1.1736  &        0.054     &    21.830  &         0.000        &        1.068    &        1.279     \\\\\n\\textbf{hora\\_pico} &      -0.0750  &        0.080     &    -0.932  &         0.351        &       -0.233    &        0.083     \\\\\n\\bottomrule\n\\end{tabular}\n%\\caption{Generalized Linear Model Regression Results}\n\\end{center}"
          },
          "metadata": {},
          "execution_count": 7
        }
      ],
      "source": [
        "# 1. Creo Dataset fictio\n",
        "np.random.seed(42)\n",
        "n = 200\n",
        "df_calls = pd.DataFrame({\n",
        "    'llamadas': np.random.poisson(lam=3, size=n) + np.random.binomial(1, 0.3, size=n),\n",
        "    'hora_pico': np.random.binomial(1, 0.4, size=n)\n",
        "})\n",
        "\n",
        "# 2. Ejecuto modelo\n",
        "Xc = sm.add_constant(df_calls[['hora_pico']])\n",
        "pois_model = sm.GLM(df_calls['llamadas'], Xc, family=sm.families.Poisson()).fit()\n",
        "pois_model.summary()"
      ]
    },
    {
      "cell_type": "markdown",
      "source": [
        "## 2.2. Interpretación de resultados"
      ],
      "metadata": {
        "id": "XgImHZjC5UjO"
      },
      "id": "XgImHZjC5UjO"
    },
    {
      "cell_type": "markdown",
      "source": [
        "| Parámetro      | β (log-coef) | **IRR = exp(β)** | IC 95 % de IRR | p -valor | Lectura práctica                                                                                                                |\n",
        "| -------------- | -----------: | ---------------: | -------------: | -------: | ------------------------------------------------------------------------------------------------------------------------------- |\n",
        "| **const**      |       +1.174 |         **3.23** |    2.90 – 3.60 |  < 0.001 | En hora **no pico** ( `hora_pico = 0` ) se esperan ≈ 3.23 llamadas en promedio.                                                 |\n",
        "| **hora\\_pico** |       –0.075 |         **0.93** |    0.79 – 1.09 |    0.351 | En hora **pico** las llamadas son un **7 % menores** (IRR ≈ 0.93), pero la diferencia **no es estadísticamente significativa**. |\n"
      ],
      "metadata": {
        "id": "rabQxvwN5bro"
      },
      "id": "rabQxvwN5bro"
    },
    {
      "cell_type": "markdown",
      "source": [
        "Qué significan estos números\n",
        "* Incident Rate Ratio (IRR)\n",
        "\n",
        "  * IRR > 1 → aumento de la tasa de llamadas.\n",
        "\n",
        "  * IRR < 1 → disminución.\n",
        "\n",
        "  * Aquí, 0.93 indica un posible 7 % menos, pero el p-valor = 0.35 > 0.05 → no podemos afirmar que exista efecto.\n",
        "\n",
        "* Bondad de ajuste\n",
        "\n",
        "  * Pseudo R² (Cox-Snell) = 0.004 → el modelo apenas explica varianza: coherente con un único predictor débil.\n",
        "\n",
        "  * Deviance / df ≈ 245.5 / 198 = 1.24 (> 1) ⇒ sobredispersión ligera; si fuera real, se consideraría una familia Quasi-Poisson o NegBin."
      ],
      "metadata": {
        "id": "8qWZ9MGV5b6C"
      },
      "id": "8qWZ9MGV5b6C"
    },
    {
      "cell_type": "markdown",
      "id": "5379dfff",
      "metadata": {
        "id": "5379dfff"
      },
      "source": [
        "En este ejemplo artificial, hora_pico no afecta significativamente el número de llamadas.\n",
        "\n",
        "Si en otro análisis se obtuviera, por ejemplo, β = 0.223 (IRR ≈ 1.25) con IC 1.10 – 1.42 y p < 0.001, entonces sí podrías decir con confianza: “en hora pico las llamadas aumentan un 25 %”."
      ]
    },
    {
      "cell_type": "markdown",
      "id": "67a57919",
      "metadata": {
        "id": "67a57919"
      },
      "source": [
        "## 3 · Modelo Mixto Lineal (LMM)"
      ]
    },
    {
      "cell_type": "markdown",
      "source": [
        "## 3.1. Cargar dataset y ejecutar modelo"
      ],
      "metadata": {
        "id": "iv_NBwcs6oL5"
      },
      "id": "iv_NBwcs6oL5"
    },
    {
      "cell_type": "markdown",
      "id": "162524f0",
      "metadata": {
        "id": "162524f0"
      },
      "source": [
        "Dataset *sleepstudy* (tiempo de reacción vs días sin dormir) con interceptos aleatorios por sujeto."
      ]
    },
    {
      "cell_type": "code",
      "execution_count": 9,
      "id": "60e3985f",
      "metadata": {
        "colab": {
          "base_uri": "https://localhost:8080/",
          "height": 249
        },
        "id": "60e3985f",
        "outputId": "ae46e86e-c98f-4ce3-b390-de5e0de04fb7"
      },
      "outputs": [
        {
          "output_type": "execute_result",
          "data": {
            "text/plain": [
              "<class 'statsmodels.iolib.summary2.Summary'>\n",
              "\"\"\"\n",
              "         Mixed Linear Model Regression Results\n",
              "========================================================\n",
              "Model:             MixedLM Dependent Variable: Reaction \n",
              "No. Observations:  180     Method:             REML     \n",
              "No. Groups:        18      Scale:              960.4568 \n",
              "Min. group size:   10      Log-Likelihood:     -893.2325\n",
              "Max. group size:   10      Converged:          Yes      \n",
              "Mean group size:   10.0                                 \n",
              "--------------------------------------------------------\n",
              "           Coef.   Std.Err.   z    P>|z|  [0.025  0.975]\n",
              "--------------------------------------------------------\n",
              "Intercept  251.405    9.747 25.794 0.000 232.302 270.508\n",
              "Days        10.467    0.804 13.015 0.000   8.891  12.044\n",
              "Group Var 1378.176   17.156                             \n",
              "========================================================\n",
              "\n",
              "\"\"\""
            ],
            "text/html": [
              "<table class=\"simpletable\">\n",
              "<tr>\n",
              "       <td>Model:</td>       <td>MixedLM</td> <td>Dependent Variable:</td> <td>Reaction</td> \n",
              "</tr>\n",
              "<tr>\n",
              "  <td>No. Observations:</td>   <td>180</td>         <td>Method:</td>         <td>REML</td>   \n",
              "</tr>\n",
              "<tr>\n",
              "     <td>No. Groups:</td>      <td>18</td>          <td>Scale:</td>        <td>960.4568</td> \n",
              "</tr>\n",
              "<tr>\n",
              "  <td>Min. group size:</td>    <td>10</td>      <td>Log-Likelihood:</td>   <td>-893.2325</td>\n",
              "</tr>\n",
              "<tr>\n",
              "  <td>Max. group size:</td>    <td>10</td>        <td>Converged:</td>         <td>Yes</td>   \n",
              "</tr>\n",
              "<tr>\n",
              "  <td>Mean group size:</td>   <td>10.0</td>            <td></td>               <td></td>     \n",
              "</tr>\n",
              "</table>\n",
              "<table class=\"simpletable\">\n",
              "<tr>\n",
              "      <td></td>        <th>Coef.</th>  <th>Std.Err.</th>    <th>z</th>   <th>P>|z|</th> <th>[0.025</th>  <th>0.975]</th> \n",
              "</tr>\n",
              "<tr>\n",
              "  <th>Intercept</th>  <td>251.405</td>   <td>9.747</td>  <td>25.794</td> <td>0.000</td> <td>232.302</td> <td>270.508</td>\n",
              "</tr>\n",
              "<tr>\n",
              "  <th>Days</th>       <td>10.467</td>    <td>0.804</td>  <td>13.015</td> <td>0.000</td>  <td>8.891</td>  <td>12.044</td> \n",
              "</tr>\n",
              "<tr>\n",
              "  <th>Group Var</th> <td>1378.176</td>  <td>17.156</td>     <td></td>      <td></td>       <td></td>        <td></td>    \n",
              "</tr>\n",
              "</table><br/>\n"
            ],
            "text/latex": "\\begin{table}\n\\caption{Mixed Linear Model Regression Results}\n\\label{}\n\\begin{center}\n\\begin{tabular}{llll}\n\\hline\nModel:            & MixedLM & Dependent Variable: & Reaction   \\\\\nNo. Observations: & 180     & Method:             & REML       \\\\\nNo. Groups:       & 18      & Scale:              & 960.4568   \\\\\nMin. group size:  & 10      & Log-Likelihood:     & -893.2325  \\\\\nMax. group size:  & 10      & Converged:          & Yes        \\\\\nMean group size:  & 10.0    &                     &            \\\\\n\\hline\n\\end{tabular}\n\\end{center}\n\n\\begin{center}\n\\begin{tabular}{lrrrrrr}\n\\hline\n          &    Coef. & Std.Err. &      z & P$> |$z$|$ &  [0.025 &  0.975]  \\\\\n\\hline\nIntercept &  251.405 &    9.747 & 25.794 &       0.000 & 232.302 & 270.508  \\\\\nDays      &   10.467 &    0.804 & 13.015 &       0.000 &   8.891 &  12.044  \\\\\nGroup Var & 1378.176 &   17.156 &        &             &         &          \\\\\n\\hline\n\\end{tabular}\n\\end{center}\n\\end{table}\n\\bigskip\n"
          },
          "metadata": {},
          "execution_count": 9
        }
      ],
      "source": [
        "# 1. Cargar dataset\n",
        "sleep = sm.datasets.get_rdataset('sleepstudy', 'lme4').data\n",
        "\n",
        "#. Ejecutar modelo\n",
        "lmm = mixedlm('Reaction ~ Days', data=sleep, groups=sleep['Subject']).fit()\n",
        "lmm.summary()"
      ]
    },
    {
      "cell_type": "markdown",
      "source": [
        "## 3.2. Interpretación"
      ],
      "metadata": {
        "id": "jtJ6XK4D6q5L"
      },
      "id": "jtJ6XK4D6q5L"
    },
    {
      "cell_type": "markdown",
      "id": "a72a2644",
      "metadata": {
        "id": "a72a2644"
      },
      "source": [
        "| Componente                          |             Valor | p-valor | Lo que significa                                                                                                                  |\n",
        "| ----------------------------------- | ----------------: | :-----: | --------------------------------------------------------------------------------------------------------------------------------- |\n",
        "| **Intercepto fijo**                 |      **251.4 ms** |  <0.001 | Tiempo medio de reacción cuando Days = 0 para un **sujeto “promedio”**.                                                           |\n",
        "| **Pendiente fija (`Days`)**         | **+10.47 ms/día** |  <0.001 | Cada día adicional sin dormir incrementa el tiempo de reacción en ≈ 10.5 ms, en promedio. **Efecto fuerte y significativo.**      |\n",
        "| **Varianza interceptos aleatorios** |           1 378.2 |    —    | Diferencias entre sujetos: SD ≈ √1 378 ≈ **37 ms**. Algunos parten bastante más lentos o más rápidos que el “promedio de 251 ms”. |\n",
        "| **Varianza residual (Scale)**       |             960.5 |    —    | Variabilidad **dentro** de cada sujeto tras ajustar la pendiente: SD ≈ √960 ≈ **31 ms**.                                          |\n"
      ]
    },
    {
      "cell_type": "markdown",
      "source": [
        "** Lectura práctica**\n",
        "\n",
        "* Efecto diario\n",
        "\n",
        "  * Tras 5 días sin dormir, se espera que la reacción sea ~52 ms más lenta (5*10.47) respecto al día 0.\n",
        "\n",
        "* Heterogeneidad entre personas\n",
        "\n",
        "  * Un sujeto con un intercepto +1 SD (+37 ms) ya parte en ≈288 ms.\n",
        "\n",
        "  * Otro con -1 SD (-37 ms) parte en ≈214 ms.\n",
        "\n",
        "  * Esta dispersión explica 59 % de la varianza total\n",
        "\n",
        "  $ICC = 1378/(1378+960) \\approx 0.59$\n",
        "\n",
        "* Precisión\n",
        "\n",
        "  * IC 95 % de la pendiente: 8.9 - 12.0 ms/día ⇒ el efecto es claramente distinto de 0.\n",
        "\n",
        "  * Convergencia “Yes” -- el algoritmo encontró un óptimo estable."
      ],
      "metadata": {
        "id": "OpvCHoVR6vwv"
      },
      "id": "OpvCHoVR6vwv"
    },
    {
      "cell_type": "markdown",
      "source": [
        "Todos los sujetos se deterioran al mismo ritmo (~10 ms/día), pero no parten iguales: hay ~37 ms de variación inicial entre personas. El modelo mixto captura esa diferencia de línea base y evita atribuirla erróneamente al efecto de los días."
      ],
      "metadata": {
        "id": "lDHExNV66v0I"
      },
      "id": "lDHExNV66v0I"
    }
  ],
  "metadata": {
    "colab": {
      "provenance": [],
      "include_colab_link": true
    },
    "language_info": {
      "name": "python"
    },
    "kernelspec": {
      "name": "python3",
      "display_name": "Python 3"
    }
  },
  "nbformat": 4,
  "nbformat_minor": 5
}