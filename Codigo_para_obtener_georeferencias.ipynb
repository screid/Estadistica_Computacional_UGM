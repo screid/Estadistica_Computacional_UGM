{
  "nbformat": 4,
  "nbformat_minor": 0,
  "metadata": {
    "colab": {
      "provenance": [],
      "include_colab_link": true
    },
    "kernelspec": {
      "name": "python3",
      "display_name": "Python 3"
    },
    "language_info": {
      "name": "python"
    }
  },
  "cells": [
    {
      "cell_type": "markdown",
      "metadata": {
        "id": "view-in-github",
        "colab_type": "text"
      },
      "source": [
        "<a href=\"https://colab.research.google.com/github/screid/Estadistica_Computacional_UGM/blob/main/Codigo_para_obtener_georeferencias.ipynb\" target=\"_parent\"><img src=\"https://colab.research.google.com/assets/colab-badge.svg\" alt=\"Open In Colab\"/></a>"
      ]
    },
    {
      "cell_type": "code",
      "source": [
        "!pip install geopy"
      ],
      "metadata": {
        "colab": {
          "base_uri": "https://localhost:8080/"
        },
        "id": "PTu6uDn6Jukt",
        "outputId": "944e7517-75ec-4969-e3a2-9d8c7de4912b"
      },
      "execution_count": null,
      "outputs": [
        {
          "output_type": "stream",
          "name": "stdout",
          "text": [
            "Requirement already satisfied: geopy in /usr/local/lib/python3.11/dist-packages (2.4.1)\n",
            "Requirement already satisfied: geographiclib<3,>=1.52 in /usr/local/lib/python3.11/dist-packages (from geopy) (2.0)\n"
          ]
        }
      ]
    },
    {
      "cell_type": "code",
      "source": [
        "# Librerias\n",
        "import pandas as pd\n",
        "import numpy as np\n",
        "import re\n",
        "from geopy.geocoders import Nominatim\n",
        "from geopy.extra.rate_limiter import RateLimiter"
      ],
      "metadata": {
        "id": "fNxtT7NEI8VW"
      },
      "execution_count": null,
      "outputs": []
    },
    {
      "cell_type": "markdown",
      "source": [
        "# 1. Funciones (no tocar)"
      ],
      "metadata": {
        "id": "cOtxx60jCXR2"
      }
    },
    {
      "cell_type": "code",
      "source": [
        "def escritura_y_transformacion_dataframe(data, comuna=None, region=None, n_partes=1, sobrescribir_ubicacion=True):\n",
        "    \"\"\"\n",
        "    Si sobrescribir_ubicacion=True, modifica o agrega las columnas COMUNA, REGION y PAIS.\n",
        "    Si es False, deja las columnas como están.\n",
        "    \"\"\"\n",
        "    if sobrescribir_ubicacion:\n",
        "        if comuna is None or region is None:\n",
        "            raise ValueError(\"Debes proporcionar 'comuna' y 'region' si deseas sobrescribir ubicación.\")\n",
        "        data['COMUNA'] = comuna\n",
        "        data['REGION'] = region\n",
        "        data['PAIS'] = 'Chile'\n",
        "\n",
        "    lista_de_dataframes = np.array_split(data, n_partes)\n",
        "\n",
        "    dataframe_dict = {}\n",
        "    for i, df_parte in enumerate(lista_de_dataframes):\n",
        "        dataframe_dict[f'df_parte_{i+1}'] = df_parte\n",
        "\n",
        "    return dataframe_dict"
      ],
      "metadata": {
        "id": "Xum7HsDOx7W8"
      },
      "execution_count": 10,
      "outputs": []
    },
    {
      "cell_type": "code",
      "source": [
        "def funcion_calculadora_de_lat_lon(data):\n",
        "\n",
        "  # Función para limpiar la dirección\n",
        "  def limpiar_direccion(direccion):\n",
        "    if pd.isnull(direccion):\n",
        "        return None\n",
        "    direccion = str(direccion).upper()\n",
        "    direccion = re.sub(r'\\b(LOCAL|local|OFICINA|oficina|OF.|of.|DEPTO|depto|DPTO|dpto|DEPARTAMENTO|departamento|S/N|s/n|SITIO|sitio|ST.|st.|SECTOR|sector|CMNO|cmno|CASA|casa|PISO|piso|CARAMPANGUE|ARAUCO)\\b[\\s\\S]*', '', direccion)\n",
        "    direccion = direccion.strip()\n",
        "    return direccion if direccion else None\n",
        "\n",
        "\n",
        "  # Construir dirección completa para geocodificar\n",
        "  def construir_direccion_completa(row):\n",
        "    base = limpiar_direccion(row['DIRECCION'])\n",
        "    if base is None:\n",
        "        return None  # dirección inválida, no se geocodifica\n",
        "    comuna = row['COMUNA']\n",
        "    region = row['REGION']\n",
        "    pais = row['PAIS']\n",
        "    return f\"{base}, {comuna}, {region}, {pais}\"\n",
        "\n",
        "  # Aplicar transformación\n",
        "  data['DIRECCION_GEO'] = data.apply(construir_direccion_completa, axis=1)\n",
        "\n",
        "  # Configurar geocoder\n",
        "  geolocator = Nominatim(user_agent=\"macaco\", timeout=5)\n",
        "  geocode = RateLimiter(geolocator.geocode, min_delay_seconds=1, max_retries=1, error_wait_seconds=1.0)\n",
        "\n",
        "  # Función de geocodificación robusta\n",
        "  def obtener_coordenadas(direccion):\n",
        "      try:\n",
        "          ubicacion = geocode(direccion)\n",
        "          if ubicacion:\n",
        "              return pd.Series([ubicacion.latitude, ubicacion.longitude])\n",
        "          else:\n",
        "              return pd.Series([None, None])\n",
        "      except Exception as e:\n",
        "          print(f\"Error con dirección '{direccion}': {e}\")\n",
        "          return pd.Series([None, None])\n",
        "\n",
        "  # Aplicar\n",
        "  data[['latitud', 'longitud']] = data['DIRECCION_GEO'].apply(obtener_coordenadas)\n",
        "\n",
        "  return data"
      ],
      "metadata": {
        "id": "Y7RTfeNbzbJQ"
      },
      "execution_count": 11,
      "outputs": []
    },
    {
      "cell_type": "markdown",
      "source": [
        "# 2. Ejecución"
      ],
      "metadata": {
        "id": "5xIHzCcmCcLo"
      }
    },
    {
      "cell_type": "markdown",
      "source": [
        "## 2.1. Cargar dataframe y visualización del mismo"
      ],
      "metadata": {
        "id": "kvEBa6mOCd4n"
      }
    },
    {
      "cell_type": "code",
      "source": [
        "# Cargas el dataframe\n",
        "# MODIFICAS AQUI Y  PONES EL NOMBRE DEL ARCHIVO\n",
        "data = pd.read_csv('Patentes Antuco.csv', sep = ';')"
      ],
      "metadata": {
        "id": "Q-NjWz0MCQ-p"
      },
      "execution_count": 12,
      "outputs": []
    },
    {
      "cell_type": "code",
      "source": [
        "# para mostrar las primeras 5 filas\n",
        "data.head(5)"
      ],
      "metadata": {
        "id": "fnK2auYaCRAy",
        "colab": {
          "base_uri": "https://localhost:8080/",
          "height": 310
        },
        "outputId": "d2e13e07-4d0b-43b0-ae9a-fc9a1bff68ba"
      },
      "execution_count": 13,
      "outputs": [
        {
          "output_type": "execute_result",
          "data": {
            "text/plain": [
              "       Rol Tipo de Patente  Nro. Giro           Rut  \\\n",
              "0  1-00001      Industrial     102228   5.763.975-K   \n",
              "1  1-00004      Industrial     102285  91.081.000-6   \n",
              "2  1-00005      Industrial     102212  79.883.210-7   \n",
              "3  1-00006      Industrial     102287  96.954.810-0   \n",
              "4  1-00007      Industrial     102298   9.379.613-6   \n",
              "\n",
              "                                 Nombres            DIRECCION  \\\n",
              "0           BURGOS CASTILLO MARTA RAQUEL    LOS CARRERAS 433    \n",
              "1              ENEL GENERACION CHILE S.A  CENTRALES DEL LAJA    \n",
              "2                   FORESTAL COMACO S.A.  FUNDO LAS MELLIZAS    \n",
              "3                    SUR INVERSIONES S.A                  NaN   \n",
              "4  ASTETE TARIFENO YANET DE LAS MERCEDES                  380   \n",
              "\n",
              "                                 Rubro  \n",
              "0                       FABRICA DE PAN  \n",
              "1  COMPAÑIA GENERADORA DE ELECTRICIDAD  \n",
              "2                EXPLOTACION DE MADERA  \n",
              "3     REPRODUCCION DE PECES Y MARISCOS  \n",
              "4                PRODUCTOS ARTESANALES  "
            ],
            "text/html": [
              "\n",
              "  <div id=\"df-679768ba-7938-479d-86b5-60a0718efe3d\" class=\"colab-df-container\">\n",
              "    <div>\n",
              "<style scoped>\n",
              "    .dataframe tbody tr th:only-of-type {\n",
              "        vertical-align: middle;\n",
              "    }\n",
              "\n",
              "    .dataframe tbody tr th {\n",
              "        vertical-align: top;\n",
              "    }\n",
              "\n",
              "    .dataframe thead th {\n",
              "        text-align: right;\n",
              "    }\n",
              "</style>\n",
              "<table border=\"1\" class=\"dataframe\">\n",
              "  <thead>\n",
              "    <tr style=\"text-align: right;\">\n",
              "      <th></th>\n",
              "      <th>Rol</th>\n",
              "      <th>Tipo de Patente</th>\n",
              "      <th>Nro. Giro</th>\n",
              "      <th>Rut</th>\n",
              "      <th>Nombres</th>\n",
              "      <th>DIRECCION</th>\n",
              "      <th>Rubro</th>\n",
              "    </tr>\n",
              "  </thead>\n",
              "  <tbody>\n",
              "    <tr>\n",
              "      <th>0</th>\n",
              "      <td>1-00001</td>\n",
              "      <td>Industrial</td>\n",
              "      <td>102228</td>\n",
              "      <td>5.763.975-K</td>\n",
              "      <td>BURGOS CASTILLO MARTA RAQUEL</td>\n",
              "      <td>LOS CARRERAS 433</td>\n",
              "      <td>FABRICA DE PAN</td>\n",
              "    </tr>\n",
              "    <tr>\n",
              "      <th>1</th>\n",
              "      <td>1-00004</td>\n",
              "      <td>Industrial</td>\n",
              "      <td>102285</td>\n",
              "      <td>91.081.000-6</td>\n",
              "      <td>ENEL GENERACION CHILE S.A</td>\n",
              "      <td>CENTRALES DEL LAJA</td>\n",
              "      <td>COMPAÑIA GENERADORA DE ELECTRICIDAD</td>\n",
              "    </tr>\n",
              "    <tr>\n",
              "      <th>2</th>\n",
              "      <td>1-00005</td>\n",
              "      <td>Industrial</td>\n",
              "      <td>102212</td>\n",
              "      <td>79.883.210-7</td>\n",
              "      <td>FORESTAL COMACO S.A.</td>\n",
              "      <td>FUNDO LAS MELLIZAS</td>\n",
              "      <td>EXPLOTACION DE MADERA</td>\n",
              "    </tr>\n",
              "    <tr>\n",
              "      <th>3</th>\n",
              "      <td>1-00006</td>\n",
              "      <td>Industrial</td>\n",
              "      <td>102287</td>\n",
              "      <td>96.954.810-0</td>\n",
              "      <td>SUR INVERSIONES S.A</td>\n",
              "      <td>NaN</td>\n",
              "      <td>REPRODUCCION DE PECES Y MARISCOS</td>\n",
              "    </tr>\n",
              "    <tr>\n",
              "      <th>4</th>\n",
              "      <td>1-00007</td>\n",
              "      <td>Industrial</td>\n",
              "      <td>102298</td>\n",
              "      <td>9.379.613-6</td>\n",
              "      <td>ASTETE TARIFENO YANET DE LAS MERCEDES</td>\n",
              "      <td>380</td>\n",
              "      <td>PRODUCTOS ARTESANALES</td>\n",
              "    </tr>\n",
              "  </tbody>\n",
              "</table>\n",
              "</div>\n",
              "    <div class=\"colab-df-buttons\">\n",
              "\n",
              "  <div class=\"colab-df-container\">\n",
              "    <button class=\"colab-df-convert\" onclick=\"convertToInteractive('df-679768ba-7938-479d-86b5-60a0718efe3d')\"\n",
              "            title=\"Convert this dataframe to an interactive table.\"\n",
              "            style=\"display:none;\">\n",
              "\n",
              "  <svg xmlns=\"http://www.w3.org/2000/svg\" height=\"24px\" viewBox=\"0 -960 960 960\">\n",
              "    <path d=\"M120-120v-720h720v720H120Zm60-500h600v-160H180v160Zm220 220h160v-160H400v160Zm0 220h160v-160H400v160ZM180-400h160v-160H180v160Zm440 0h160v-160H620v160ZM180-180h160v-160H180v160Zm440 0h160v-160H620v160Z\"/>\n",
              "  </svg>\n",
              "    </button>\n",
              "\n",
              "  <style>\n",
              "    .colab-df-container {\n",
              "      display:flex;\n",
              "      gap: 12px;\n",
              "    }\n",
              "\n",
              "    .colab-df-convert {\n",
              "      background-color: #E8F0FE;\n",
              "      border: none;\n",
              "      border-radius: 50%;\n",
              "      cursor: pointer;\n",
              "      display: none;\n",
              "      fill: #1967D2;\n",
              "      height: 32px;\n",
              "      padding: 0 0 0 0;\n",
              "      width: 32px;\n",
              "    }\n",
              "\n",
              "    .colab-df-convert:hover {\n",
              "      background-color: #E2EBFA;\n",
              "      box-shadow: 0px 1px 2px rgba(60, 64, 67, 0.3), 0px 1px 3px 1px rgba(60, 64, 67, 0.15);\n",
              "      fill: #174EA6;\n",
              "    }\n",
              "\n",
              "    .colab-df-buttons div {\n",
              "      margin-bottom: 4px;\n",
              "    }\n",
              "\n",
              "    [theme=dark] .colab-df-convert {\n",
              "      background-color: #3B4455;\n",
              "      fill: #D2E3FC;\n",
              "    }\n",
              "\n",
              "    [theme=dark] .colab-df-convert:hover {\n",
              "      background-color: #434B5C;\n",
              "      box-shadow: 0px 1px 3px 1px rgba(0, 0, 0, 0.15);\n",
              "      filter: drop-shadow(0px 1px 2px rgba(0, 0, 0, 0.3));\n",
              "      fill: #FFFFFF;\n",
              "    }\n",
              "  </style>\n",
              "\n",
              "    <script>\n",
              "      const buttonEl =\n",
              "        document.querySelector('#df-679768ba-7938-479d-86b5-60a0718efe3d button.colab-df-convert');\n",
              "      buttonEl.style.display =\n",
              "        google.colab.kernel.accessAllowed ? 'block' : 'none';\n",
              "\n",
              "      async function convertToInteractive(key) {\n",
              "        const element = document.querySelector('#df-679768ba-7938-479d-86b5-60a0718efe3d');\n",
              "        const dataTable =\n",
              "          await google.colab.kernel.invokeFunction('convertToInteractive',\n",
              "                                                    [key], {});\n",
              "        if (!dataTable) return;\n",
              "\n",
              "        const docLinkHtml = 'Like what you see? Visit the ' +\n",
              "          '<a target=\"_blank\" href=https://colab.research.google.com/notebooks/data_table.ipynb>data table notebook</a>'\n",
              "          + ' to learn more about interactive tables.';\n",
              "        element.innerHTML = '';\n",
              "        dataTable['output_type'] = 'display_data';\n",
              "        await google.colab.output.renderOutput(dataTable, element);\n",
              "        const docLink = document.createElement('div');\n",
              "        docLink.innerHTML = docLinkHtml;\n",
              "        element.appendChild(docLink);\n",
              "      }\n",
              "    </script>\n",
              "  </div>\n",
              "\n",
              "\n",
              "    <div id=\"df-270d3506-eb29-45ed-91e0-475ff9056810\">\n",
              "      <button class=\"colab-df-quickchart\" onclick=\"quickchart('df-270d3506-eb29-45ed-91e0-475ff9056810')\"\n",
              "                title=\"Suggest charts\"\n",
              "                style=\"display:none;\">\n",
              "\n",
              "<svg xmlns=\"http://www.w3.org/2000/svg\" height=\"24px\"viewBox=\"0 0 24 24\"\n",
              "     width=\"24px\">\n",
              "    <g>\n",
              "        <path d=\"M19 3H5c-1.1 0-2 .9-2 2v14c0 1.1.9 2 2 2h14c1.1 0 2-.9 2-2V5c0-1.1-.9-2-2-2zM9 17H7v-7h2v7zm4 0h-2V7h2v10zm4 0h-2v-4h2v4z\"/>\n",
              "    </g>\n",
              "</svg>\n",
              "      </button>\n",
              "\n",
              "<style>\n",
              "  .colab-df-quickchart {\n",
              "      --bg-color: #E8F0FE;\n",
              "      --fill-color: #1967D2;\n",
              "      --hover-bg-color: #E2EBFA;\n",
              "      --hover-fill-color: #174EA6;\n",
              "      --disabled-fill-color: #AAA;\n",
              "      --disabled-bg-color: #DDD;\n",
              "  }\n",
              "\n",
              "  [theme=dark] .colab-df-quickchart {\n",
              "      --bg-color: #3B4455;\n",
              "      --fill-color: #D2E3FC;\n",
              "      --hover-bg-color: #434B5C;\n",
              "      --hover-fill-color: #FFFFFF;\n",
              "      --disabled-bg-color: #3B4455;\n",
              "      --disabled-fill-color: #666;\n",
              "  }\n",
              "\n",
              "  .colab-df-quickchart {\n",
              "    background-color: var(--bg-color);\n",
              "    border: none;\n",
              "    border-radius: 50%;\n",
              "    cursor: pointer;\n",
              "    display: none;\n",
              "    fill: var(--fill-color);\n",
              "    height: 32px;\n",
              "    padding: 0;\n",
              "    width: 32px;\n",
              "  }\n",
              "\n",
              "  .colab-df-quickchart:hover {\n",
              "    background-color: var(--hover-bg-color);\n",
              "    box-shadow: 0 1px 2px rgba(60, 64, 67, 0.3), 0 1px 3px 1px rgba(60, 64, 67, 0.15);\n",
              "    fill: var(--button-hover-fill-color);\n",
              "  }\n",
              "\n",
              "  .colab-df-quickchart-complete:disabled,\n",
              "  .colab-df-quickchart-complete:disabled:hover {\n",
              "    background-color: var(--disabled-bg-color);\n",
              "    fill: var(--disabled-fill-color);\n",
              "    box-shadow: none;\n",
              "  }\n",
              "\n",
              "  .colab-df-spinner {\n",
              "    border: 2px solid var(--fill-color);\n",
              "    border-color: transparent;\n",
              "    border-bottom-color: var(--fill-color);\n",
              "    animation:\n",
              "      spin 1s steps(1) infinite;\n",
              "  }\n",
              "\n",
              "  @keyframes spin {\n",
              "    0% {\n",
              "      border-color: transparent;\n",
              "      border-bottom-color: var(--fill-color);\n",
              "      border-left-color: var(--fill-color);\n",
              "    }\n",
              "    20% {\n",
              "      border-color: transparent;\n",
              "      border-left-color: var(--fill-color);\n",
              "      border-top-color: var(--fill-color);\n",
              "    }\n",
              "    30% {\n",
              "      border-color: transparent;\n",
              "      border-left-color: var(--fill-color);\n",
              "      border-top-color: var(--fill-color);\n",
              "      border-right-color: var(--fill-color);\n",
              "    }\n",
              "    40% {\n",
              "      border-color: transparent;\n",
              "      border-right-color: var(--fill-color);\n",
              "      border-top-color: var(--fill-color);\n",
              "    }\n",
              "    60% {\n",
              "      border-color: transparent;\n",
              "      border-right-color: var(--fill-color);\n",
              "    }\n",
              "    80% {\n",
              "      border-color: transparent;\n",
              "      border-right-color: var(--fill-color);\n",
              "      border-bottom-color: var(--fill-color);\n",
              "    }\n",
              "    90% {\n",
              "      border-color: transparent;\n",
              "      border-bottom-color: var(--fill-color);\n",
              "    }\n",
              "  }\n",
              "</style>\n",
              "\n",
              "      <script>\n",
              "        async function quickchart(key) {\n",
              "          const quickchartButtonEl =\n",
              "            document.querySelector('#' + key + ' button');\n",
              "          quickchartButtonEl.disabled = true;  // To prevent multiple clicks.\n",
              "          quickchartButtonEl.classList.add('colab-df-spinner');\n",
              "          try {\n",
              "            const charts = await google.colab.kernel.invokeFunction(\n",
              "                'suggestCharts', [key], {});\n",
              "          } catch (error) {\n",
              "            console.error('Error during call to suggestCharts:', error);\n",
              "          }\n",
              "          quickchartButtonEl.classList.remove('colab-df-spinner');\n",
              "          quickchartButtonEl.classList.add('colab-df-quickchart-complete');\n",
              "        }\n",
              "        (() => {\n",
              "          let quickchartButtonEl =\n",
              "            document.querySelector('#df-270d3506-eb29-45ed-91e0-475ff9056810 button');\n",
              "          quickchartButtonEl.style.display =\n",
              "            google.colab.kernel.accessAllowed ? 'block' : 'none';\n",
              "        })();\n",
              "      </script>\n",
              "    </div>\n",
              "\n",
              "    </div>\n",
              "  </div>\n"
            ],
            "application/vnd.google.colaboratory.intrinsic+json": {
              "type": "dataframe",
              "variable_name": "data",
              "summary": "{\n  \"name\": \"data\",\n  \"rows\": 167,\n  \"fields\": [\n    {\n      \"column\": \"Rol\",\n      \"properties\": {\n        \"dtype\": \"string\",\n        \"num_unique_values\": 167,\n        \"samples\": [\n          \"2-00200\",\n          \"2-00208\",\n          \"2-00167\"\n        ],\n        \"semantic_type\": \"\",\n        \"description\": \"\"\n      }\n    },\n    {\n      \"column\": \"Tipo de Patente\",\n      \"properties\": {\n        \"dtype\": \"category\",\n        \"num_unique_values\": 4,\n        \"samples\": [\n          \"Comercial\",\n          \"Alcoholes\",\n          \"Industrial\"\n        ],\n        \"semantic_type\": \"\",\n        \"description\": \"\"\n      }\n    },\n    {\n      \"column\": \"Nro. Giro\",\n      \"properties\": {\n        \"dtype\": \"number\",\n        \"std\": 51,\n        \"min\": 102209,\n        \"max\": 102391,\n        \"num_unique_values\": 167,\n        \"samples\": [\n          102331,\n          102341,\n          102291\n        ],\n        \"semantic_type\": \"\",\n        \"description\": \"\"\n      }\n    },\n    {\n      \"column\": \"Rut\",\n      \"properties\": {\n        \"dtype\": \"string\",\n        \"num_unique_values\": 134,\n        \"samples\": [\n          \"76.015.971-9\",\n          \"10.623.130-3\",\n          \"77.389.461-2\"\n        ],\n        \"semantic_type\": \"\",\n        \"description\": \"\"\n      }\n    },\n    {\n      \"column\": \"Nombres\",\n      \"properties\": {\n        \"dtype\": \"string\",\n        \"num_unique_values\": 134,\n        \"samples\": [\n          \"ANTUCALHUE LTDA. TURISMO\",\n          \"JIMENEZ ALMENDRAS LORENA KATIUSKA\",\n          \"EMPORIO SURE\\u00d1O SPA\"\n        ],\n        \"semantic_type\": \"\",\n        \"description\": \"\"\n      }\n    },\n    {\n      \"column\": \"DIRECCION\",\n      \"properties\": {\n        \"dtype\": \"string\",\n        \"num_unique_values\": 96,\n        \"samples\": [\n          \"MIRRIHUE BAJO \",\n          \"CARRERA S/N \",\n          \"LOS CARRERAS 624 \"\n        ],\n        \"semantic_type\": \"\",\n        \"description\": \"\"\n      }\n    },\n    {\n      \"column\": \"Rubro\",\n      \"properties\": {\n        \"dtype\": \"string\",\n        \"num_unique_values\": 96,\n        \"samples\": [\n          \"ARQUITECTURA\",\n          \"RESTAURANT DIURNO\",\n          \"CARNICERIA Y MINIMARKET\"\n        ],\n        \"semantic_type\": \"\",\n        \"description\": \"\"\n      }\n    }\n  ]\n}"
            }
          },
          "metadata": {},
          "execution_count": 13
        }
      ]
    },
    {
      "cell_type": "code",
      "source": [
        "print(\"Número de filas: \" , data.shape[0])"
      ],
      "metadata": {
        "id": "gzWMbA9BCTLU",
        "colab": {
          "base_uri": "https://localhost:8080/"
        },
        "outputId": "5d597f42-8a0a-469e-b36c-892ea2b43f3f"
      },
      "execution_count": 14,
      "outputs": [
        {
          "output_type": "stream",
          "name": "stdout",
          "text": [
            "Número de filas:  167\n"
          ]
        }
      ]
    },
    {
      "cell_type": "markdown",
      "source": [
        "## 2.2. Ejecución del código.\n",
        "Recuerda que si necesitas correr por dataframe particionado, ocupas la primera fila. Si no, ocupas la segunda."
      ],
      "metadata": {
        "id": "WKQS4kgLCgwN"
      }
    },
    {
      "cell_type": "code",
      "source": [
        "# UTILIZA ESTE CODIGO SI NECESITAS DIVIDIR EL DATAFRAME\n",
        "# Solo modificar aquí si se desea cambiar el número de partes\n",
        "n_partes = 6\n",
        "\n",
        "# Ejecuta todo\n",
        "partes = escritura_y_transformacion_dataframe(\n",
        "    data,\n",
        "    comuna='Providencia',\n",
        "    region='Metropolitana',\n",
        "    n_partes=n_partes,\n",
        "    sobrescribir_ubicacion=True\n",
        ")\n",
        "\n",
        "for nombre, df_parte in partes.items():\n",
        "    print(f\"Procesando {nombre}...\")\n",
        "    resultado = funcion_calculadora_de_lat_lon(df_parte)\n",
        "    resultado.to_csv(f\"{nombre}_resultado.csv\", index=False)"
      ],
      "metadata": {
        "id": "npiSRFR5bcCZ"
      },
      "execution_count": null,
      "outputs": []
    },
    {
      "cell_type": "code",
      "source": [
        "# UTILIZA ESTE CODIGO SI NO NECESITAS DIVIDIR EL DATAFRAME\n",
        "# Procesamiento sin dividir en partes\n",
        "resultado = escritura_y_transformacion_dataframe(\n",
        "    data,\n",
        "    comuna='Antuco',\n",
        "    region='Biobio',\n",
        "    n_partes=1,\n",
        "    sobrescribir_ubicacion=True\n",
        ")['df_parte_1']\n",
        "\n",
        "# Aplicar cálculo de coordenadas\n",
        "resultado = funcion_calculadora_de_lat_lon(resultado)\n",
        "\n",
        "# Guardar resultado\n",
        "resultado.to_csv(\"resultado_Patentes Antuco.csv\", index=False)"
      ],
      "metadata": {
        "id": "QoJRKrpM48H4",
        "colab": {
          "base_uri": "https://localhost:8080/"
        },
        "outputId": "408590e7-4a8f-4987-c920-9f1c25553fb0"
      },
      "execution_count": null,
      "outputs": [
        {
          "output_type": "stream",
          "name": "stderr",
          "text": [
            "/usr/local/lib/python3.11/dist-packages/numpy/_core/fromnumeric.py:57: FutureWarning: 'DataFrame.swapaxes' is deprecated and will be removed in a future version. Please use 'DataFrame.transpose' instead.\n",
            "  return bound(*args, **kwds)\n"
          ]
        }
      ]
    },
    {
      "cell_type": "code",
      "source": [],
      "metadata": {
        "id": "sGiTr8vtB2Sn"
      },
      "execution_count": null,
      "outputs": []
    }
  ]
}