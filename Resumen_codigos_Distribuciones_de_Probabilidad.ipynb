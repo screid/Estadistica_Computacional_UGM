{
  "nbformat": 4,
  "nbformat_minor": 0,
  "metadata": {
    "colab": {
      "provenance": [],
      "authorship_tag": "ABX9TyPgdD6PShM6tPDquoM80tAl",
      "include_colab_link": true
    },
    "kernelspec": {
      "name": "python3",
      "display_name": "Python 3"
    },
    "language_info": {
      "name": "python"
    }
  },
  "cells": [
    {
      "cell_type": "markdown",
      "metadata": {
        "id": "view-in-github",
        "colab_type": "text"
      },
      "source": [
        "<a href=\"https://colab.research.google.com/github/screid/Estadistica_Computacional_UGM/blob/main/Resumen_codigos_Distribuciones_de_Probabilidad.ipynb\" target=\"_parent\"><img src=\"https://colab.research.google.com/assets/colab-badge.svg\" alt=\"Open In Colab\"/></a>"
      ]
    },
    {
      "cell_type": "markdown",
      "source": [
        "# 1. Distribuciones con Variables Discretas"
      ],
      "metadata": {
        "id": "u9nP4iokEdXv"
      }
    },
    {
      "cell_type": "markdown",
      "source": [
        "## 1.1. Distribución Binomial"
      ],
      "metadata": {
        "id": "OPTr0qThEkYh"
      }
    },
    {
      "cell_type": "code",
      "source": [
        "from scipy.stats import binom\n",
        "\n",
        "# 2.1 Definir la distribución\n",
        "n, p = 10, 0.42\n",
        "dist = binom(n, p)\n",
        "\n",
        "# 2.2 P(X < k)\n",
        "k = 5\n",
        "p_less = dist.cdf(k-1)          # P(X ≤ k-1)\n",
        "\n",
        "# 2.3 P(X = k)\n",
        "p_eq = dist.pmf(k)\n",
        "\n",
        "# 2.4 P(X > k)\n",
        "p_greater = dist.sf(k)          # P(X ≥ k+1)\n",
        "\n",
        "# 2.5 P(X ≥ k)\n",
        "p_ge = dist.sf(k-1)             # P(X ≥ k)\n",
        "\n",
        "# 2.6 Esperanza y varianza\n",
        "mean_binom = dist.mean()        # = n*p\n",
        "var_binom  = dist.var()         # = n*p*(1-p)"
      ],
      "metadata": {
        "id": "taA_zkiMEndL"
      },
      "execution_count": 1,
      "outputs": []
    },
    {
      "cell_type": "markdown",
      "source": [
        "## 1.2. Distribución de Poisson"
      ],
      "metadata": {
        "id": "tnD5dS00ErZ6"
      }
    },
    {
      "cell_type": "code",
      "source": [
        "from scipy.stats import poisson\n",
        "\n",
        "# 3.1 Definir la distribución\n",
        "lam = 2.3\n",
        "dist = poisson(mu=lam)\n",
        "\n",
        "# 3.2 P(X < k)\n",
        "k = 2\n",
        "p_less = dist.cdf(k-1)\n",
        "\n",
        "# 3.3 P(X = k)\n",
        "p_eq = dist.pmf(k)\n",
        "\n",
        "# 3.4 P(X > k)\n",
        "p_greater = dist.sf(k)\n",
        "\n",
        "# 3.5 P(X ≥ k)\n",
        "p_ge = dist.sf(k-1)\n",
        "\n",
        "# 3.6 Esperanza y varianza\n",
        "mean_pois = dist.mean()         # = lam\n",
        "var_pois  = dist.var()          # = lam\n",
        "std_pois  = dist.std()          # = sqrt(lam)"
      ],
      "metadata": {
        "id": "fPpWxM2HFDVE"
      },
      "execution_count": null,
      "outputs": []
    },
    {
      "cell_type": "markdown",
      "source": [
        "# 2. Distribuciones con Variables Continuas"
      ],
      "metadata": {
        "id": "c9axppymEQKv"
      }
    },
    {
      "cell_type": "markdown",
      "source": [
        "## 2.1 Distribución Normal"
      ],
      "metadata": {
        "id": "S0sSp1MoEcuS"
      }
    },
    {
      "cell_type": "code",
      "execution_count": null,
      "metadata": {
        "id": "DFC25DhvDZhx"
      },
      "outputs": [],
      "source": [
        "from scipy.stats import norm\n",
        "\n",
        "# 1.1 Definir la distribución\n",
        "mu, sigma = 13, 2\n",
        "dist = norm(loc=mu, scale=sigma)\n",
        "\n",
        "# 1.2 P(X < k)\n",
        "k = 10\n",
        "p_less = dist.cdf(k)\n",
        "\n",
        "# 1.3 P(X = k)  ← para variable continua estrictamente no tiene pmf\n",
        "# no aplicable\n",
        "\n",
        "# 1.4 P(X > k)\n",
        "p_greater = dist.sf(k)           # más estable que 1 - cdf\n",
        "\n",
        "# 1.5 P(a < X < b)\n",
        "a, b = 7, 9\n",
        "p_between = dist.cdf(b) - dist.cdf(a)\n",
        "\n",
        "# 1.6 Valor‑Z de x\n",
        "x = 17\n",
        "z = (x - mu) / sigma\n",
        "\n",
        "# 1.7 Percentil p → x\n",
        "p = 0.90\n",
        "x90 = dist.ppf(p)\n",
        "\n",
        "# 1.8 Esperanza y varianza\n",
        "mean_norm = dist.mean()         # = mu\n",
        "var_norm  = dist.var()          # = sigma**2"
      ]
    },
    {
      "cell_type": "markdown",
      "source": [
        "## 2.2. Distribución Exponencial"
      ],
      "metadata": {
        "id": "ia6G2umoFSVh"
      }
    },
    {
      "cell_type": "code",
      "source": [
        "from scipy.stats import expon\n",
        "\n",
        "# 4.1 Definir la distribución\n",
        "#    λ = 1/scale    ↔   scale = 1/λ = media\n",
        "scale = 10       # si media=10\n",
        "dist = expon(scale=scale)\n",
        "\n",
        "# 4.2 P(X < t)\n",
        "t = 4\n",
        "p_less = dist.cdf(t)\n",
        "\n",
        "# 4.3 P(X = t)   ← continua, pdf en un punto\n",
        "p_eq = dist.pdf(t)\n",
        "\n",
        "# 4.4 P(X > t)\n",
        "p_greater = dist.sf(t)\n",
        "\n",
        "# 4.5 Esperanza y varianza\n",
        "mean_exp = dist.mean()          # = scale\n",
        "var_exp  = dist.var()           # = scale**2"
      ],
      "metadata": {
        "id": "rZjrNTGfFUbz"
      },
      "execution_count": null,
      "outputs": []
    },
    {
      "cell_type": "markdown",
      "source": [
        "# 3. Ejemplo de ley de la probabilidad total"
      ],
      "metadata": {
        "id": "TUGEInYnFaD7"
      }
    },
    {
      "cell_type": "code",
      "source": [
        "# Si:\n",
        "#   40% son novatos con p(gana|N)=0.2\n",
        "#   60% son expertos con p(gana|E)=0.6\n",
        "p_win = 0.4*0.2 + 0.6*0.6"
      ],
      "metadata": {
        "id": "npAX704_FcxF"
      },
      "execution_count": 2,
      "outputs": []
    },
    {
      "cell_type": "code",
      "source": [],
      "metadata": {
        "id": "TFa9IRrWFhKv"
      },
      "execution_count": null,
      "outputs": []
    }
  ]
}